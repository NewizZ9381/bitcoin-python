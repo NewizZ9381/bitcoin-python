{
 "cells": [
  {
   "cell_type": "code",
   "execution_count": 1,
   "metadata": {},
   "outputs": [],
   "source": [
    "############## PLEASE RUN THIS CELL FIRST! ###################\n",
    "\n",
    "# import everything and define a test runner function\n",
    "from importlib import reload\n",
    "from helper import run\n",
    "import ecc\n",
    "import helper\n",
    "import op\n",
    "import script\n",
    "import tx"
   ]
  },
  {
   "cell_type": "markdown",
   "metadata": {},
   "source": [
    "### Exercise 1\n",
    "\n",
    "Write the `op_checkmultisig` function of `op.py`.\n",
    "\n",
    "#### Make [this test](/edit/code-ch08/op.py) pass: `op.py:OpTest:test_op_checkmultisig`"
   ]
  },
  {
   "cell_type": "code",
   "execution_count": 2,
   "metadata": {},
   "outputs": [
    {
     "name": "stderr",
     "output_type": "stream",
     "text": [
      ".\n",
      "----------------------------------------------------------------------\n",
      "Ran 1 test in 0.336s\n",
      "\n",
      "OK\n"
     ]
    }
   ],
   "source": [
    "# Exercise 1\n",
    "\n",
    "reload(op)\n",
    "run(op.OpTest(\"test_op_checkmultisig\"))"
   ]
  },
  {
   "cell_type": "code",
   "execution_count": 3,
   "metadata": {},
   "outputs": [
    {
     "name": "stdout",
     "output_type": "stream",
     "text": [
      "3CLoMMyuoDQTPRD3XYZtCvgvkadrAdvdXh\n"
     ]
    }
   ],
   "source": [
    "from helper import encode_base58_checksum\n",
    "h160 = bytes.fromhex('74d691da1574e6b3c192ecfb52cc8984ee7b6c56')\n",
    "print(encode_base58_checksum(b'\\x05' + h160))"
   ]
  },
  {
   "cell_type": "markdown",
   "metadata": {},
   "source": [
    "### Exercise 2\n",
    "\n",
    "Write `h160_to_p2pkh_address` that converts a 20-byte hash160 into a p2pkh address.\n",
    "\n",
    "#### Make [this test](/edit/code-ch08/helper.HelperTest.py) pass: `helper.HelperTest.py::test_p2pkh_address`"
   ]
  },
  {
   "cell_type": "code",
   "execution_count": 13,
   "metadata": {},
   "outputs": [
    {
     "name": "stderr",
     "output_type": "stream",
     "text": [
      ".\n",
      "----------------------------------------------------------------------\n",
      "Ran 1 test in 0.002s\n",
      "\n",
      "OK\n"
     ]
    }
   ],
   "source": [
    "# Exercise 2\n",
    "\n",
    "# reload(helper.HelperTest)\n",
    "reload(helper)\n",
    "run(helper.HelperTest(\"test_p2pkh_address\"))"
   ]
  },
  {
   "cell_type": "markdown",
   "metadata": {},
   "source": [
    "### Exercise 3\n",
    "\n",
    "Write `h160_to_p2sh_address` that converts a 20-byte hash160 into a p2sh address.\n",
    "\n",
    "#### Make [this test](/edit/code-ch08/helper.HelperTest.py) pass: `helper.HelperTest.py::test_p2sh_address`"
   ]
  },
  {
   "cell_type": "code",
   "execution_count": 15,
   "metadata": {},
   "outputs": [
    {
     "name": "stderr",
     "output_type": "stream",
     "text": [
      ".\n",
      "----------------------------------------------------------------------\n",
      "Ran 1 test in 0.001s\n",
      "\n",
      "OK\n"
     ]
    }
   ],
   "source": [
    "# Exercise 3\n",
    "\n",
    "# reload(helper.HelperTest)\n",
    "reload(helper)\n",
    "run(helper.HelperTest(\"test_p2sh_address\"))"
   ]
  },
  {
   "cell_type": "code",
   "execution_count": 17,
   "metadata": {},
   "outputs": [
    {
     "name": "stdout",
     "output_type": "stream",
     "text": [
      "104533698797560496821845132535319230899254894228014507304915351202849162871356\n",
      "0xe71bfa115715d6fd33796948126f40a8cdd39f187e4afb03896795189fe1423c\n"
     ]
    }
   ],
   "source": [
    "from helper import hash256\n",
    "modified_tx = bytes.fromhex('0100000001868278ed6ddfb6c1ed3ad5f8181eb0c7a385aa0836f01d5e4789e6bd304d87221a000000475221022626e955ea6ea6d98850c994f9107b036b1334f18ca8830bfff1295d21cfdb702103b287eaf122eea69030a0e9feed096bed8045c8b98bec453e1ffac7fbdbd4bb7152aeffffffff04d3b11400000000001976a914904a49878c0adfc3aa05de7afad2cc15f483a56a88ac7f400900000000001976a914418327e3f3dda4cf5b9089325a4b95abdfa0334088ac722c0c00000000001976a914ba35042cfe9fc66fd35ac2224eebdafd1028ad2788acdc4ace020000000017a91474d691da1574e6b3c192ecfb52cc8984ee7b6c56870000000001000000')\n",
    "s256 = hash256(modified_tx)\n",
    "z = int.from_bytes(s256, 'big')\n",
    "print(z)\n",
    "print(hex(z))"
   ]
  },
  {
   "cell_type": "code",
   "execution_count": 19,
   "metadata": {},
   "outputs": [
    {
     "name": "stdout",
     "output_type": "stream",
     "text": [
      "True\n"
     ]
    }
   ],
   "source": [
    "from ecc import S256Point, Signature\n",
    "from helper import hash256\n",
    "modified_tx = bytes.fromhex('0100000001868278ed6ddfb6c1ed3ad5f8181eb0c7a385aa0836f01d5e4789e6bd304d87221a000000475221022626e955ea6ea6d98850c994f9107b036b1334f18ca8830bfff1295d21cfdb702103b287eaf122eea69030a0e9feed096bed8045c8b98bec453e1ffac7fbdbd4bb7152aeffffffff04d3b11400000000001976a914904a49878c0adfc3aa05de7afad2cc15f483a56a88ac7f400900000000001976a914418327e3f3dda4cf5b9089325a4b95abdfa0334088ac722c0c00000000001976a914ba35042cfe9fc66fd35ac2224eebdafd1028ad2788acdc4ace020000000017a91474d691da1574e6b3c192ecfb52cc8984ee7b6c56870000000001000000')\n",
    "h256 = hash256(modified_tx)\n",
    "z = int.from_bytes(h256, 'big')\n",
    "sec = bytes.fromhex('022626e955ea6ea6d98850c994f9107b036b1334f18ca8830bfff1295d21cfdb70')\n",
    "der = bytes.fromhex('3045022100dc92655fe37036f47756db8102e0d7d5e28b3beb83a8fef4f5dc0559bddfb94e02205a36d4e4e6c7fcd16658c50783e00c341609977aed3ad00937bf4ee942a89937')\n",
    "point = S256Point.parse(sec)\n",
    "sig = Signature.parse(der)\n",
    "print(point.verify(z, sig))"
   ]
  },
  {
   "cell_type": "code",
   "execution_count": 21,
   "metadata": {},
   "outputs": [
    {
     "name": "stdout",
     "output_type": "stream",
     "text": [
      "modified_tx :  b'\\x01\\x00\\x00\\x00\\x01\\x86\\x82x\\xedm\\xdf\\xb6\\xc1\\xed:\\xd5\\xf8\\x18\\x1e\\xb0\\xc7\\xa3\\x85\\xaa\\x086\\xf0\\x1d^G\\x89\\xe6\\xbd0M\\x87\"\\x1a\\x00\\x00\\x00GR!\\x02&&\\xe9U\\xean\\xa6\\xd9\\x88P\\xc9\\x94\\xf9\\x10{\\x03k\\x134\\xf1\\x8c\\xa8\\x83\\x0b\\xff\\xf1)]!\\xcf\\xdbp!\\x03\\xb2\\x87\\xea\\xf1\"\\xee\\xa6\\x900\\xa0\\xe9\\xfe\\xed\\tk\\xed\\x80E\\xc8\\xb9\\x8b\\xecE>\\x1f\\xfa\\xc7\\xfb\\xdb\\xd4\\xbbqR\\xae\\xff\\xff\\xff\\xff\\x04\\xd3\\xb1\\x14\\x00\\x00\\x00\\x00\\x00\\x19v\\xa9\\x14\\x90JI\\x87\\x8c\\n\\xdf\\xc3\\xaa\\x05\\xdez\\xfa\\xd2\\xcc\\x15\\xf4\\x83\\xa5j\\x88\\xac\\x7f@\\t\\x00\\x00\\x00\\x00\\x00\\x19v\\xa9\\x14A\\x83\\'\\xe3\\xf3\\xdd\\xa4\\xcf[\\x90\\x892ZK\\x95\\xab\\xdf\\xa03@\\x88\\xacr,\\x0c\\x00\\x00\\x00\\x00\\x00\\x19v\\xa9\\x14\\xba5\\x04,\\xfe\\x9f\\xc6o\\xd3Z\\xc2\"N\\xeb\\xda\\xfd\\x10(\\xad\\'\\x88\\xac\\xdcJ\\xce\\x02\\x00\\x00\\x00\\x00\\x17\\xa9\\x14t\\xd6\\x91\\xda\\x15t\\xe6\\xb3\\xc1\\x92\\xec\\xfbR\\xcc\\x89\\x84\\xee{lV\\x87\\x00\\x00\\x00\\x00\\x01\\x00\\x00\\x00'\n",
      "h256 :  b'\\xe7\\x1b\\xfa\\x11W\\x15\\xd6\\xfd3yiH\\x12o@\\xa8\\xcd\\xd3\\x9f\\x18~J\\xfb\\x03\\x89g\\x95\\x18\\x9f\\xe1B<'\n",
      "z :  104533698797560496821845132535319230899254894228014507304915351202849162871356\n",
      "sec :  b'\\x02&&\\xe9U\\xean\\xa6\\xd9\\x88P\\xc9\\x94\\xf9\\x10{\\x03k\\x134\\xf1\\x8c\\xa8\\x83\\x0b\\xff\\xf1)]!\\xcf\\xdbp'\n",
      "der :  b'0E\\x02!\\x00\\xdc\\x92e_\\xe3p6\\xf4wV\\xdb\\x81\\x02\\xe0\\xd7\\xd5\\xe2\\x8b;\\xeb\\x83\\xa8\\xfe\\xf4\\xf5\\xdc\\x05Y\\xbd\\xdf\\xb9N\\x02 Z6\\xd4\\xe4\\xe6\\xc7\\xfc\\xd1fX\\xc5\\x07\\x83\\xe0\\x0c4\\x16\\t\\x97z\\xed:\\xd0\\t7\\xbfN\\xe9B\\xa8\\x997'\n",
      "point :  S256Point(2626e955ea6ea6d98850c994f9107b036b1334f18ca8830bfff1295d21cfdb70, 1ba9e6117571e51c841fe180758f4303ac81c995e4737aa7ca98acb482171208)\n",
      "sig :  Signature(dc92655fe37036f47756db8102e0d7d5e28b3beb83a8fef4f5dc0559bddfb94e,5a36d4e4e6c7fcd16658c50783e00c341609977aed3ad00937bf4ee942a89937)\n"
     ]
    }
   ],
   "source": [
    "print('modified_tx : ', modified_tx)\n",
    "print('h256 : ', h256)\n",
    "print('z : ', z)\n",
    "print('sec : ', sec)\n",
    "print('der : ', der)\n",
    "print('point : ', point)\n",
    "print('sig : ', sig)"
   ]
  },
  {
   "cell_type": "markdown",
   "metadata": {},
   "source": [
    "### Exercise 4\n",
    "\n",
    "Validate the second signature from the transaction above."
   ]
  },
  {
   "cell_type": "code",
   "execution_count": 25,
   "metadata": {},
   "outputs": [
    {
     "name": "stdout",
     "output_type": "stream",
     "text": [
      "True\n"
     ]
    }
   ],
   "source": [
    "# Exercise 4\n",
    "\n",
    "from io import BytesIO\n",
    "from ecc import S256Point, Signature\n",
    "from helper import encode_varint, hash256, int_to_little_endian\n",
    "from script import Script\n",
    "from tx import Tx, SIGHASH_ALL, TxIn\n",
    "\n",
    "hex_tx = '0100000001868278ed6ddfb6c1ed3ad5f8181eb0c7a385aa0836f01d5e4789e6bd304d87221a000000db00483045022100dc92655fe37036f47756db8102e0d7d5e28b3beb83a8fef4f5dc0559bddfb94e02205a36d4e4e6c7fcd16658c50783e00c341609977aed3ad00937bf4ee942a8993701483045022100da6bee3c93766232079a01639d07fa869598749729ae323eab8eef53577d611b02207bef15429dcadce2121ea07f233115c6f09034c0be68db99980b9a6c5e75402201475221022626e955ea6ea6d98850c994f9107b036b1334f18ca8830bfff1295d21cfdb702103b287eaf122eea69030a0e9feed096bed8045c8b98bec453e1ffac7fbdbd4bb7152aeffffffff04d3b11400000000001976a914904a49878c0adfc3aa05de7afad2cc15f483a56a88ac7f400900000000001976a914418327e3f3dda4cf5b9089325a4b95abdfa0334088ac722c0c00000000001976a914ba35042cfe9fc66fd35ac2224eebdafd1028ad2788acdc4ace020000000017a91474d691da1574e6b3c192ecfb52cc8984ee7b6c568700000000'\n",
    "hex_sec = '03b287eaf122eea69030a0e9feed096bed8045c8b98bec453e1ffac7fbdbd4bb71'\n",
    "hex_der = '3045022100da6bee3c93766232079a01639d07fa869598749729ae323eab8eef53577d611b02207bef15429dcadce2121ea07f233115c6f09034c0be68db99980b9a6c5e754022'\n",
    "hex_redeem_script = '475221022626e955ea6ea6d98850c994f9107b036b1334f18ca8830bfff1295d21cfdb702103b287eaf122eea69030a0e9feed096bed8045c8b98bec453e1ffac7fbdbd4bb7152ae'\n",
    "sec = bytes.fromhex(hex_sec)\n",
    "der = bytes.fromhex(hex_der)\n",
    "redeem_script = Script.parse(BytesIO(bytes.fromhex(hex_redeem_script)))\n",
    "stream = BytesIO(bytes.fromhex(hex_tx))\n",
    "\n",
    "# modify the transaction\n",
    "# start with version\n",
    "# add number of inputs\n",
    "# modify the single TxIn to have the ScriptSig to be the RedeemScript\n",
    "# add the number of outputs\n",
    "# add each output serialization\n",
    "# add the locktime\n",
    "# add the SIGHASH_ALL\n",
    "# hash256 the result\n",
    "# interpret as a Big-Endian number\n",
    "# parse the S256Point\n",
    "# parse the Signature\n",
    "# verify that the point, z and signature work\n",
    "\n",
    "tx_obj = Tx.parse(stream)\n",
    "s = int_to_little_endian(tx_obj.version, 4)\n",
    "s += encode_varint(len(tx_obj.tx_ins))\n",
    "i = tx_obj.tx_ins[0]\n",
    "s += TxIn(i.prev_tx, i.prev_index, redeem_script, i.sequence).serialize()\n",
    "s += encode_varint(len(tx_obj.tx_outs))\n",
    "for tx_out in tx_obj.tx_outs:\n",
    "    s += tx_out.serialize()\n",
    "s += int_to_little_endian(tx_obj.locktime, 4)\n",
    "s += int_to_little_endian(SIGHASH_ALL, 4)\n",
    "z = int.from_bytes(hash256(s), 'big')\n",
    "point = S256Point.parse(sec)\n",
    "sig = Signature.parse(der)\n",
    "print(point.verify(z, sig))"
   ]
  },
  {
   "cell_type": "markdown",
   "metadata": {},
   "source": [
    "### Exercise 5\n",
    "\n",
    "Modify the `sig_hash` and `verify_input` methods to be able to verify p2sh transactions.\n",
    "\n",
    "#### Make [this test](/edit/code-ch08/tx.py) pass: `tx.py:TxTest:test_verify_p2sh`"
   ]
  },
  {
   "cell_type": "code",
   "execution_count": 28,
   "metadata": {},
   "outputs": [
    {
     "name": "stderr",
     "output_type": "stream",
     "text": [
      "E\n",
      "======================================================================\n",
      "ERROR: test_verify_p2sh (tx.TxTest)\n",
      "----------------------------------------------------------------------\n",
      "Traceback (most recent call last):\n",
      "  File \"C:\\Users\\wityanat.CEMENTHAI\\bitcoin-python\\bitcoin-python\\ch08-pay_to_script_hash\\tx.py\", line 472, in test_verify_p2sh\n",
      "    self.assertTrue(tx.verify())\n",
      "  File \"C:\\Users\\wityanat.CEMENTHAI\\bitcoin-python\\bitcoin-python\\ch08-pay_to_script_hash\\tx.py\", line 262, in verify\n",
      "    if not self.verify_input(i):\n",
      "  File \"C:\\Users\\wityanat.CEMENTHAI\\bitcoin-python\\bitcoin-python\\ch08-pay_to_script_hash\\tx.py\", line 253, in verify_input\n",
      "    return combined.evaluate(z)\n",
      "  File \"C:\\Users\\wityanat.CEMENTHAI\\bitcoin-python\\bitcoin-python\\ch08-pay_to_script_hash\\script.py\", line 162, in evaluate\n",
      "    if not operation(stack, z):\n",
      "  File \"C:\\Users\\wityanat.CEMENTHAI\\bitcoin-python\\bitcoin-python\\ch08-pay_to_script_hash\\op.py\", line 719, in op_checkmultisig\n",
      "    points = [S256Point.parse(sec) for sec in sec_pubkeys]\n",
      "NotImplementedError\n",
      "\n",
      "----------------------------------------------------------------------\n",
      "Ran 1 test in 0.009s\n",
      "\n",
      "FAILED (errors=1)\n"
     ]
    }
   ],
   "source": [
    "# Exercise 5\n",
    "\n",
    "reload(tx)\n",
    "run(tx.TxTest(\"test_verify_p2sh\"))"
   ]
  },
  {
   "cell_type": "code",
   "execution_count": null,
   "metadata": {},
   "outputs": [],
   "source": []
  }
 ],
 "metadata": {
  "kernelspec": {
   "display_name": "Python 3",
   "language": "python",
   "name": "python3"
  },
  "language_info": {
   "codemirror_mode": {
    "name": "ipython",
    "version": 3
   },
   "file_extension": ".py",
   "mimetype": "text/x-python",
   "name": "python",
   "nbconvert_exporter": "python",
   "pygments_lexer": "ipython3",
   "version": "3.6.10"
  }
 },
 "nbformat": 4,
 "nbformat_minor": 2
}
