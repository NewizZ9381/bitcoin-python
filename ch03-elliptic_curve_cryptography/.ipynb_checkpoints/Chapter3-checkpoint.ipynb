{
 "cells": [
  {
   "cell_type": "code",
   "execution_count": 30,
   "metadata": {},
   "outputs": [],
   "source": [
    "############## PLEASE RUN THIS CELL FIRST! ###################\n",
    "\n",
    "# import everything and define a test runner function\n",
    "from importlib import reload\n",
    "from helper import run\n",
    "import ecc\n",
    "import helper\n",
    "\n",
    "from ecc import FieldElement, Point"
   ]
  },
  {
   "cell_type": "markdown",
   "metadata": {},
   "source": [
    "### Exercise 1\n",
    "\n",
    "Evaluate whether these points are on the curve \\\\(y^{2}\\\\)=\\\\(x^{3}\\\\)+7 over \\\\(F_{223}\\\\)\n",
    "\n",
    "(192,105), (17,56), (200,119), (1,193), (42,99)"
   ]
  },
  {
   "cell_type": "code",
   "execution_count": 31,
   "metadata": {},
   "outputs": [
    {
     "data": {
      "text/plain": [
       "FieldElement_223(0)"
      ]
     },
     "execution_count": 31,
     "metadata": {},
     "output_type": "execute_result"
    }
   ],
   "source": [
    "FieldElement(0, 223)"
   ]
  },
  {
   "cell_type": "code",
   "execution_count": 32,
   "metadata": {},
   "outputs": [
    {
     "data": {
      "text/plain": [
       "Point(0,0)_0_0 FieldElement(223)"
      ]
     },
     "execution_count": 32,
     "metadata": {},
     "output_type": "execute_result"
    }
   ],
   "source": [
    "Point(FieldElement(0, 223),FieldElement(0, 223),FieldElement(0, 223),FieldElement(0, 223))"
   ]
  },
  {
   "cell_type": "code",
   "execution_count": 13,
   "metadata": {},
   "outputs": [
    {
     "name": "stdout",
     "output_type": "stream",
     "text": [
      "True\n",
      "True\n",
      "False\n",
      "True\n",
      "False\n"
     ]
    }
   ],
   "source": [
    "# Exercise 1\n",
    "\n",
    "prime = 223\n",
    "a = FieldElement(0, prime)\n",
    "b = FieldElement(7, prime)\n",
    "\n",
    "# (192,105), (17,56), (200,119), (1,193), (42,99)\n",
    "def on_curve(x, y):\n",
    "    return y**2 == x**3 + a*x + b\n",
    "\n",
    "print(on_curve(FieldElement(192, prime), FieldElement(105, prime)))\n",
    "print(on_curve(FieldElement(17, prime), FieldElement(56, prime)))\n",
    "print(on_curve(FieldElement(200, prime), FieldElement(119, prime)))\n",
    "print(on_curve(FieldElement(1, prime), FieldElement(193, prime)))\n",
    "print(on_curve(FieldElement(42, prime), FieldElement(99, prime)))"
   ]
  },
  {
   "cell_type": "code",
   "execution_count": 14,
   "metadata": {},
   "outputs": [
    {
     "name": "stdout",
     "output_type": "stream",
     "text": [
      "Point(192,105)_0_7 FieldElement(223)\n"
     ]
    }
   ],
   "source": [
    "from ecc import FieldElement, Point\n",
    "a = FieldElement(num=0, prime=223)\n",
    "b = FieldElement(num=7, prime=223)\n",
    "x = FieldElement(num=192, prime=223)\n",
    "y = FieldElement(num=105, prime=223)\n",
    "p1 = Point(x, y, a, b)\n",
    "print(p1)"
   ]
  },
  {
   "cell_type": "code",
   "execution_count": 15,
   "metadata": {},
   "outputs": [
    {
     "name": "stdout",
     "output_type": "stream",
     "text": [
      "Point(170,142)_0_7 FieldElement(223)\n"
     ]
    }
   ],
   "source": [
    "from ecc import FieldElement, Point\n",
    "prime = 223\n",
    "a = FieldElement(num=0, prime=prime)\n",
    "b = FieldElement(num=7, prime=prime)\n",
    "x1 = FieldElement(num=192, prime=prime)\n",
    "y1 = FieldElement(num=105, prime=prime)\n",
    "x2 = FieldElement(num=17, prime=prime)\n",
    "y2 = FieldElement(num=56, prime=prime)\n",
    "p1 = Point(x1, y1, a, b)\n",
    "p2 = Point(x2, y2, a, b)\n",
    "print(p1+p2)"
   ]
  },
  {
   "cell_type": "markdown",
   "metadata": {},
   "source": [
    "### Exercise 2\n",
    "\n",
    "For the curve \\\\(y^{2}\\\\)=\\\\(x^{3}\\\\)+7 over \\\\(F_{223}\\\\), find:\n",
    "\n",
    "* (170,142) + (60,139)\n",
    "* (47,71) + (17,56)\n",
    "* (143,98) + (76,66)"
   ]
  },
  {
   "cell_type": "code",
   "execution_count": 33,
   "metadata": {},
   "outputs": [
    {
     "name": "stdout",
     "output_type": "stream",
     "text": [
      "Point(220,181)_0_7 FieldElement(223)\n",
      "Point(215,68)_0_7 FieldElement(223)\n",
      "Point(47,71)_0_7 FieldElement(223)\n"
     ]
    }
   ],
   "source": [
    "# Exercise 2\n",
    "\n",
    "prime = 223\n",
    "a = FieldElement(0, prime)\n",
    "b = FieldElement(7, prime)\n",
    "\n",
    "# (170,142) + (60,139)\n",
    "# (47,71) + (17,56)\n",
    "# (143,98) + (76,66)\n",
    "\n",
    "p1 = Point(FieldElement(170, prime), FieldElement(142, prime), a, b)\n",
    "p2 = Point(FieldElement(60, prime), FieldElement(139, prime), a, b)\n",
    "print(p1+p2)\n",
    "p1 = Point(FieldElement(47, prime), FieldElement(71, prime), a, b)\n",
    "p2 = Point(FieldElement(17, prime), FieldElement(56, prime), a, b)\n",
    "print(p1+p2)\n",
    "p1 = Point(FieldElement(143, prime), FieldElement(98, prime), a, b)\n",
    "p2 = Point(FieldElement(76, prime), FieldElement(66, prime), a, b)\n",
    "print(p1+p2)"
   ]
  },
  {
   "cell_type": "markdown",
   "metadata": {},
   "source": [
    "### Exercise 3\n",
    "\n",
    "Extend `ECCTest` to test for the additions from the previous exercise. Call this `test_add`.\n",
    "\n",
    "#### Make [this test](/edit/code-ch03/ecc.py) pass: `ecc.py:ECCTest:test_add`"
   ]
  },
  {
   "cell_type": "code",
   "execution_count": 27,
   "metadata": {},
   "outputs": [
    {
     "name": "stderr",
     "output_type": "stream",
     "text": [
      ".\n",
      "----------------------------------------------------------------------\n",
      "Ran 1 test in 0.001s\n",
      "\n",
      "OK\n"
     ]
    }
   ],
   "source": [
    "# Exercise 3\n",
    "\n",
    "reload(ecc)\n",
    "run(ecc.ECCTest(\"test_add\"))"
   ]
  },
  {
   "cell_type": "markdown",
   "metadata": {},
   "source": [
    "### Exercise 4\n",
    "\n",
    "For the curve \\\\(y^{2}\\\\)=\\\\(x^{3}\\\\)+7 over \\\\(F_{223}\\\\), find:\n",
    "\n",
    "* 2⋅(192,105)\n",
    "* 2⋅(143,98)\n",
    "* 2⋅(47,71)\n",
    "* 4⋅(47,71)\n",
    "* 8⋅(47,71)\n",
    "* 21⋅(47,71)"
   ]
  },
  {
   "cell_type": "code",
   "execution_count": 34,
   "metadata": {},
   "outputs": [
    {
     "name": "stdout",
     "output_type": "stream",
     "text": [
      "Point(49,71)_0_7 FieldElement(223)\n",
      "Point(49,71)_0_7 FieldElement(223)\n"
     ]
    }
   ],
   "source": [
    "# Exercise 4\n",
    "\n",
    "prime = 223\n",
    "a = FieldElement(0, prime)\n",
    "b = FieldElement(7, prime)\n",
    "\n",
    "# 2*(192, 105)\n",
    "# 2*(143, 98)\n",
    "# 2*(47, 71)\n",
    "# 4*(47, 71)\n",
    "# 8*(47, 71)\n",
    "# 21*(47, 71)\n",
    "\n",
    "# create a product variable\n",
    "# add the point to the product n times\n",
    "# print the product\n",
    "\n",
    "p1 = Point(FieldElement(192, prime), FieldElement(105, prime), a, b)\n",
    "print(2*p1)\n",
    "print(p1+p1)"
   ]
  },
  {
   "cell_type": "code",
   "execution_count": 35,
   "metadata": {},
   "outputs": [
    {
     "name": "stdout",
     "output_type": "stream",
     "text": [
      "1*(47,71)=(47,71)\n",
      "2*(47,71)=(36,111)\n",
      "3*(47,71)=(15,137)\n",
      "4*(47,71)=(194,51)\n",
      "5*(47,71)=(126,96)\n",
      "6*(47,71)=(139,137)\n",
      "7*(47,71)=(92,47)\n",
      "8*(47,71)=(116,55)\n",
      "9*(47,71)=(69,86)\n",
      "10*(47,71)=(154,150)\n",
      "11*(47,71)=(154,73)\n",
      "12*(47,71)=(69,137)\n",
      "13*(47,71)=(116,168)\n",
      "14*(47,71)=(92,176)\n",
      "15*(47,71)=(139,86)\n",
      "16*(47,71)=(126,127)\n",
      "17*(47,71)=(194,172)\n",
      "18*(47,71)=(15,86)\n",
      "19*(47,71)=(36,112)\n",
      "20*(47,71)=(47,152)\n"
     ]
    }
   ],
   "source": [
    "from ecc import FieldElement, Point\n",
    "prime = 223\n",
    "a = FieldElement(0, prime)\n",
    "b = FieldElement(7, prime)\n",
    "x = FieldElement(47, prime)\n",
    "y = FieldElement(71, prime)\n",
    "p = Point(x, y, a, b)\n",
    "for s in range(1,21):\n",
    "    result = s*p\n",
    "    print('{}*(47,71)=({},{})'.format(s,result.x.num,result.y.num))"
   ]
  },
  {
   "cell_type": "code",
   "execution_count": 58,
   "metadata": {},
   "outputs": [
    {
     "name": "stdout",
     "output_type": "stream",
     "text": [
      "1*(47,71)=(47,71)\n",
      "2*(47,71)=(36,111)\n",
      "3*(47,71)=(15,137)\n",
      "4*(47,71)=(194,51)\n",
      "5*(47,71)=(126,96)\n",
      "6*(47,71)=(139,137)\n",
      "7*(47,71)=(92,47)\n",
      "8*(47,71)=(116,55)\n",
      "9*(47,71)=(69,86)\n",
      "10*(47,71)=(154,150)\n",
      "11*(47,71)=(154,73)\n",
      "12*(47,71)=(69,137)\n",
      "13*(47,71)=(116,168)\n",
      "14*(47,71)=(92,176)\n",
      "15*(47,71)=(139,86)\n",
      "16*(47,71)=(126,127)\n",
      "17*(47,71)=(194,172)\n",
      "18*(47,71)=(15,86)\n",
      "19*(47,71)=(36,112)\n",
      "20*(47,71)=(47,152)\n"
     ]
    },
    {
     "ename": "AttributeError",
     "evalue": "'NoneType' object has no attribute 'num'",
     "output_type": "error",
     "traceback": [
      "\u001b[1;31m---------------------------------------------------------------------------\u001b[0m",
      "\u001b[1;31mAttributeError\u001b[0m                            Traceback (most recent call last)",
      "\u001b[1;32m<ipython-input-58-4989f324f8d1>\u001b[0m in \u001b[0;36m<module>\u001b[1;34m\u001b[0m\n\u001b[0;32m      8\u001b[0m \u001b[1;32mfor\u001b[0m \u001b[0ms\u001b[0m \u001b[1;32min\u001b[0m \u001b[0mrange\u001b[0m\u001b[1;33m(\u001b[0m\u001b[1;36m1\u001b[0m\u001b[1;33m,\u001b[0m\u001b[1;36m22\u001b[0m\u001b[1;33m)\u001b[0m\u001b[1;33m:\u001b[0m\u001b[1;33m\u001b[0m\u001b[1;33m\u001b[0m\u001b[0m\n\u001b[0;32m      9\u001b[0m     \u001b[0mresult\u001b[0m \u001b[1;33m=\u001b[0m \u001b[0ms\u001b[0m\u001b[1;33m*\u001b[0m\u001b[0mp\u001b[0m\u001b[1;33m\u001b[0m\u001b[1;33m\u001b[0m\u001b[0m\n\u001b[1;32m---> 10\u001b[1;33m     \u001b[0mprint\u001b[0m\u001b[1;33m(\u001b[0m\u001b[1;34m'{}*(47,71)=({},{})'\u001b[0m\u001b[1;33m.\u001b[0m\u001b[0mformat\u001b[0m\u001b[1;33m(\u001b[0m\u001b[0ms\u001b[0m\u001b[1;33m,\u001b[0m\u001b[0mresult\u001b[0m\u001b[1;33m.\u001b[0m\u001b[0mx\u001b[0m\u001b[1;33m.\u001b[0m\u001b[0mnum\u001b[0m\u001b[1;33m,\u001b[0m\u001b[0mresult\u001b[0m\u001b[1;33m.\u001b[0m\u001b[0my\u001b[0m\u001b[1;33m.\u001b[0m\u001b[0mnum\u001b[0m\u001b[1;33m)\u001b[0m\u001b[1;33m)\u001b[0m\u001b[1;33m\u001b[0m\u001b[1;33m\u001b[0m\u001b[0m\n\u001b[0m",
      "\u001b[1;31mAttributeError\u001b[0m: 'NoneType' object has no attribute 'num'"
     ]
    }
   ],
   "source": [
    "from ecc import FieldElement, Point\n",
    "prime = 223\n",
    "a = FieldElement(0, prime)\n",
    "b = FieldElement(7, prime)\n",
    "x = FieldElement(47, prime)\n",
    "y = FieldElement(71, prime)\n",
    "p = Point(x, y, a, b)\n",
    "for s in range(1,22):\n",
    "    result = s*p\n",
    "    print('{}*(47,71)=({},{})'.format(s,result.x.num,result.y.num))"
   ]
  },
  {
   "cell_type": "code",
   "execution_count": 66,
   "metadata": {
    "scrolled": true
   },
   "outputs": [
    {
     "name": "stdout",
     "output_type": "stream",
     "text": [
      "prime :  223\n",
      "1*(47,71)=(47,71)\n",
      "2*(47,71)=(36,111)\n",
      "3*(47,71)=(15,137)\n",
      "4*(47,71)=(194,51)\n",
      "5*(47,71)=(126,96)\n",
      "6*(47,71)=(139,137)\n",
      "7*(47,71)=(92,47)\n",
      "8*(47,71)=(116,55)\n",
      "9*(47,71)=(69,86)\n",
      "10*(47,71)=(154,150)\n",
      "11*(47,71)=(154,73)\n",
      "12*(47,71)=(69,137)\n",
      "13*(47,71)=(116,168)\n",
      "14*(47,71)=(92,176)\n",
      "15*(47,71)=(139,86)\n",
      "16*(47,71)=(126,127)\n",
      "17*(47,71)=(194,172)\n",
      "18*(47,71)=(15,86)\n",
      "19*(47,71)=(36,112)\n",
      "20*(47,71)=(47,152)\n",
      "prime :  443\n",
      "1*(47,71)=(47,71)\n",
      "2*(47,71)=(215,125)\n",
      "3*(47,71)=(89,137)\n",
      "4*(47,71)=(427,28)\n",
      "5*(47,71)=(137,184)\n",
      "6*(47,71)=(174,247)\n",
      "7*(47,71)=(283,324)\n",
      "8*(47,71)=(202,20)\n",
      "9*(47,71)=(430,438)\n",
      "10*(47,71)=(259,133)\n",
      "11*(47,71)=(198,215)\n",
      "12*(47,71)=(434,399)\n",
      "13*(47,71)=(150,26)\n",
      "14*(47,71)=(235,295)\n",
      "15*(47,71)=(229,174)\n",
      "16*(47,71)=(176,428)\n",
      "17*(47,71)=(122,422)\n",
      "18*(47,71)=(191,336)\n",
      "19*(47,71)=(343,98)\n",
      "20*(47,71)=(32,315)\n",
      "21*(47,71)=(34,131)\n",
      "22*(47,71)=(420,83)\n",
      "23*(47,71)=(129,19)\n",
      "24*(47,71)=(133,124)\n",
      "25*(47,71)=(170,85)\n",
      "26*(47,71)=(381,370)\n",
      "27*(47,71)=(376,421)\n",
      "28*(47,71)=(194,357)\n",
      "29*(47,71)=(398,331)\n",
      "30*(47,71)=(145,283)\n",
      "31*(47,71)=(78,97)\n",
      "32*(47,71)=(138,410)\n",
      "33*(47,71)=(413,284)\n",
      "34*(47,71)=(216,408)\n",
      "35*(47,71)=(238,172)\n",
      "36*(47,71)=(361,199)\n",
      "37*(47,71)=(299,416)\n",
      "38*(47,71)=(279,413)\n",
      "39*(47,71)=(93,266)\n",
      "40*(47,71)=(80,261)\n",
      "41*(47,71)=(424,309)\n",
      "42*(47,71)=(332,111)\n",
      "43*(47,71)=(256,195)\n",
      "44*(47,71)=(254,175)\n",
      "45*(47,71)=(293,120)\n",
      "46*(47,71)=(107,252)\n",
      "47*(47,71)=(344,207)\n",
      "48*(47,71)=(101,307)\n",
      "49*(47,71)=(322,171)\n",
      "50*(47,71)=(162,8)\n",
      "51*(47,71)=(23,355)\n",
      "52*(47,71)=(230,101)\n",
      "53*(47,71)=(109,311)\n",
      "54*(47,71)=(36,386)\n",
      "55*(47,71)=(100,158)\n",
      "56*(47,71)=(396,426)\n",
      "57*(47,71)=(268,52)\n",
      "58*(47,71)=(243,12)\n",
      "59*(47,71)=(274,90)\n",
      "60*(47,71)=(90,304)\n",
      "61*(47,71)=(33,180)\n",
      "62*(47,71)=(10,432)\n",
      "63*(47,71)=(244,115)\n",
      "64*(47,71)=(146,152)\n",
      "65*(47,71)=(31,224)\n",
      "66*(47,71)=(119,396)\n",
      "67*(47,71)=(440,167)\n",
      "68*(47,71)=(436,162)\n",
      "69*(47,71)=(375,170)\n",
      "70*(47,71)=(395,348)\n",
      "71*(47,71)=(364,373)\n",
      "72*(47,71)=(365,206)\n",
      "73*(47,71)=(349,202)\n",
      "74*(47,71)=(164,0)\n",
      "75*(47,71)=(349,241)\n",
      "76*(47,71)=(365,237)\n",
      "77*(47,71)=(364,70)\n",
      "78*(47,71)=(395,95)\n",
      "79*(47,71)=(375,273)\n",
      "80*(47,71)=(436,281)\n",
      "81*(47,71)=(440,276)\n",
      "82*(47,71)=(119,47)\n",
      "83*(47,71)=(31,219)\n",
      "84*(47,71)=(146,291)\n",
      "85*(47,71)=(244,328)\n",
      "86*(47,71)=(10,11)\n",
      "87*(47,71)=(33,263)\n",
      "88*(47,71)=(90,139)\n",
      "89*(47,71)=(274,353)\n",
      "90*(47,71)=(243,431)\n",
      "91*(47,71)=(268,391)\n",
      "92*(47,71)=(396,17)\n",
      "93*(47,71)=(100,285)\n",
      "94*(47,71)=(36,57)\n",
      "95*(47,71)=(109,132)\n",
      "96*(47,71)=(230,342)\n",
      "97*(47,71)=(23,88)\n",
      "98*(47,71)=(162,435)\n",
      "99*(47,71)=(322,272)\n",
      "100*(47,71)=(101,136)\n",
      "101*(47,71)=(344,236)\n",
      "102*(47,71)=(107,191)\n",
      "103*(47,71)=(293,323)\n",
      "104*(47,71)=(254,268)\n",
      "105*(47,71)=(256,248)\n",
      "106*(47,71)=(332,332)\n",
      "107*(47,71)=(424,134)\n",
      "108*(47,71)=(80,182)\n",
      "109*(47,71)=(93,177)\n",
      "110*(47,71)=(279,30)\n",
      "111*(47,71)=(299,27)\n",
      "112*(47,71)=(361,244)\n",
      "113*(47,71)=(238,271)\n",
      "114*(47,71)=(216,35)\n",
      "115*(47,71)=(413,159)\n",
      "116*(47,71)=(138,33)\n",
      "117*(47,71)=(78,346)\n",
      "118*(47,71)=(145,160)\n",
      "119*(47,71)=(398,112)\n",
      "120*(47,71)=(194,86)\n",
      "121*(47,71)=(376,22)\n",
      "122*(47,71)=(381,73)\n",
      "123*(47,71)=(170,358)\n",
      "124*(47,71)=(133,319)\n",
      "125*(47,71)=(129,424)\n",
      "126*(47,71)=(420,360)\n",
      "127*(47,71)=(34,312)\n",
      "128*(47,71)=(32,128)\n",
      "129*(47,71)=(343,345)\n",
      "130*(47,71)=(191,107)\n",
      "131*(47,71)=(122,21)\n",
      "132*(47,71)=(176,15)\n",
      "133*(47,71)=(229,269)\n",
      "134*(47,71)=(235,148)\n",
      "135*(47,71)=(150,417)\n",
      "136*(47,71)=(434,44)\n",
      "137*(47,71)=(198,228)\n",
      "138*(47,71)=(259,310)\n",
      "139*(47,71)=(430,5)\n",
      "140*(47,71)=(202,423)\n",
      "141*(47,71)=(283,119)\n",
      "142*(47,71)=(174,196)\n",
      "143*(47,71)=(137,259)\n",
      "144*(47,71)=(427,415)\n",
      "145*(47,71)=(89,306)\n",
      "146*(47,71)=(215,318)\n",
      "147*(47,71)=(47,372)\n"
     ]
    }
   ],
   "source": [
    "from ecc import FieldElement, Point\n",
    "prime_numbers = [2,3,5,7,11,13,17,19,23,29,31,37,41,43,47,53,59,61,67,71,\n",
    "73,79,83,89,97,101,103,107,109,113,127,131,137,139,149,151,157,163,167,173,\n",
    "179,181,191,193,197,199,211,223,227,229,233,239,241,251,257,263,269,271,277,281,\n",
    "283,293,307,311,313,317,331,337,347,349,353,359,367,373,379,383,389,397,401,409,\n",
    "419,421,431,433,439,443,449,457,461,463,467,479,487,491,499,503,509,521,523,541,\n",
    "547,557,563,569,571,577,587,593,599,601,607,613,617,619,631,641,643,647,653,659,\n",
    "661,673,677,683,691,701,709,719,727,733,739,743,751,757,761,769,773,787,797,809,\n",
    "811,821,823,827,829,839,853,857,859,863,877,881,883,887,907,911,919,929,937,941,\n",
    "947,953,967,971,977,983,991,997,1009,1013,1019,1021,1031,1033,1039,1049,1051,1061,1063,1069,\n",
    "1087,1091,1093,1097,1103,1109,1117,1123,1129,1151,1153,1163,1171,1181,1187,1193,1201,1213,1217,1223,\n",
    "1229,1231,1237,1249,1259,1277,1279,1283,1289,1291,1297,1301,1303,1307,1319,1321,1327,1361,1367,1373,\n",
    "1381,1399,1409,1423,1427,1429,1433,1439,1447,1451,1453,1459,1471,1481,1483,1487,1489,1493,1499,1511,\n",
    "1523,1531,1543,1549,1553,1559,1567,1571,1579,1583,1597,1601,1607,1609,1613,1619,1621,1627,1637,1657,\n",
    "1663,1667,1669,1693,1697,1699,1709,1721,1723,1733,1741,1747,1753,1759,1777,1783,1787,1789,1801,1811,\n",
    "1823,1831,1847,1861,1867,1871,1873,1877,1879,1889,1901,1907,1913,1931,1933,1949,1951,1973,1979,1987,\n",
    "1993,1997,1999,2003,2011,2017,2027,2029,2039,2053,2063,2069,2081,2083,2087,2089,2099,2111,2113,2129,\n",
    "2131,2137,2141,2143,2153,2161,2179,2203,2207,2213,2221,2237,2239,2243,2251,2267,2269,2273,2281,2287,\n",
    "2293,2297,2309,2311,2333,2339,2341,2347,2351,2357,2371,2377,2381,2383,2389,2393,2399,2411,2417,2423,\n",
    "2437,2441,2447,2459,2467,2473,2477,2503,2521,2531,2539,2543,2549,2551,2557,2579,2591,2593,2609,2617,\n",
    "2621,2633,2647,2657,2659,2663,2671,2677,2683,2687,2689,2693,2699,2707,2711,2713,2719,2729,2731,2741,\n",
    "2749,2753,2767,2777,2789,2791,2797,2801,2803,2819,2833,2837,2843,2851,2857,2861,2879,2887,2897,2903,\n",
    "2909,2917,2927,2939,2953,2957,2963,2969,2971,2999,3001,3011,3019,3023,3037,3041,3049,3061,3067,3079,\n",
    "3083,3089,3109,3119,3121,3137,3163,3167,3169,3181,3187,3191,3203,3209,3217,3221,3229,3251,3253,3257,\n",
    "3259,3271,3299,3301,3307,3313,3319,3323,3329,3331,3343,3347,3359,3361,3371,3373,3389,3391,3407,3413,\n",
    "3433,3449,3457,3461,3463,3467,3469,3491,3499,3511,3517,3527,3529,3533,3539,3541,3547,3557,3559,3571,\n",
    "3581,3583,3593,3607,3613,3617,3623,3631,3637,3643,3659,3671,3673,3677,3691,3697,3701,3709,3719,3727,\n",
    "3733,3739,3761,3767,3769,3779,3793,3797,3803,3821,3823,3833,3847,3851,3853,3863,3877,3881,3889,3907,\n",
    "3911,3917,3919,3923,3929,3931,3943,3947,3967,3989,4001,4003,4007,4013,4019,4021,4027,4049,4051,4057,\n",
    "4073,4079,4091,4093,4099,4111,4127,4129,4133,4139,4153,4157,4159,4177,4201,4211,4217,4219,4229,4231,\n",
    "4241,4243,4253,4259,4261,4271,4273,4283,4289,4297,4327,4337,4339,4349,4357,4363,4373,4391,4397,4409,\n",
    "4421,4423,4441,4447,4451,4457,4463,4481,4483,4493,4507,4513,4517,4519,4523,4547,4549,4561,4567,4583,\n",
    "4591,4597,4603,4621,4637,4639,4643,4649,4651,4657,4663,4673,4679,4691,4703,4721,4723,4729,4733,4751,\n",
    "4759,4783,4787,4789,4793,4799,4801,4813,4817,4831,4861,4871,4877,4889,4903,4909,4919,4931,4933,4937,\n",
    "4943,4951,4957,4967,4969,4973,4987,4993,4999,5003,5009,5011,5021,5023,5039,5051,5059,5077,5081,5087,\n",
    "5099,5101,5107,5113,5119,5147,5153,5167,5171,5179,5189,5197,5209,5227,5231,5233,5237,5261,5273,5279,\n",
    "5281,5297,5303,5309,5323,5333,5347,5351,5381,5387,5393,5399,5407,5413,5417,5419,5431,5437,5441,5443,\n",
    "5449,5471,5477,5479,5483,5501,5503,5507,5519,5521,5527,5531,5557,5563,5569,5573,5581,5591,5623,5639,\n",
    "5641,5647,5651,5653,5657,5659,5669,5683,5689,5693,5701,5711,5717,5737,5741,5743,5749,5779,5783,5791,\n",
    "5801,5807,5813,5821,5827,5839,5843,5849,5851,5857,5861,5867,5869,5879,5881,5897,5903,5923,5927,5939,\n",
    "5953,5981,5987,6007,6011,6029,6037,6043,6047,6053,6067,6073,6079,6089,6091,6101,6113,6121,6131,6133,\n",
    "6143,6151,6163,6173,6197,6199,6203,6211,6217,6221,6229,6247,6257,6263,6269,6271,6277,6287,6299,6301,\n",
    "6311,6317,6323,6329,6337,6343,6353,6359,6361,6367,6373,6379,6389,6397,6421,6427,6449,6451,6469,6473,\n",
    "6481,6491,6521,6529,6547,6551,6553,6563,6569,6571,6577,6581,6599,6607,6619,6637,6653,6659,6661,6673,\n",
    "6679,6689,6691,6701,6703,6709,6719,6733,6737,6761,6763,6779,6781,6791,6793,6803,6823,6827,6829,6833,\n",
    "6841,6857,6863,6869,6871,6883,6899,6907,6911,6917,6947,6949,6959,6961,6967,6971,6977,6983,6991,6997,\n",
    "7001,7013,7019,7027,7039,7043,7057,7069,7079,7103,7109,7121,7127,7129,7151,7159,7177,7187,7193,7207,\n",
    "7211,7213,7219,7229,7237,7243,7247,7253,7283,7297,7307,7309,7321,7331,7333,7349,7351,7369,7393,7411,\n",
    "7417,7433,7451,7457,7459,7477,7481,7487,7489,7499,7507,7517,7523,7529,7537,7541,7547,7549,7559,7561,\n",
    "7573,7577,7583,7589,7591,7603,7607,7621,7639,7643,7649,7669,7673,7681,7687,7691,7699,7703,7717,7723,\n",
    "7727,7741,7753,7757,7759,7789,7793,7817,7823,7829,7841,7853,7867,7873,7877,7879,7883,7901,7907,7919\n",
    "]\n",
    "\n",
    "for prime in prime_numbers:\n",
    "    try:\n",
    "        \n",
    "        a = FieldElement(0, prime)\n",
    "        b = FieldElement(7, prime)\n",
    "        x = FieldElement(47, prime)\n",
    "        y = FieldElement(71, prime)\n",
    "        p = Point(x, y, a, b)\n",
    "        print('prime : ',prime)\n",
    "        for s in range(1,1000):\n",
    "            result = s*p\n",
    "            print('{}*(47,71)=({},{})'.format(s,result.x.num,result.y.num))\n",
    "    except:\n",
    "        None"
   ]
  },
  {
   "cell_type": "markdown",
   "metadata": {},
   "source": [
    "### Exercise 5\n",
    "\n",
    "For the curve \\\\(y^{2}\\\\)=\\\\(x^{3}\\\\)+7 over \\\\(F_{223}\\\\), find the order of the group generated by (15,86)"
   ]
  },
  {
   "cell_type": "code",
   "execution_count": 68,
   "metadata": {},
   "outputs": [
    {
     "name": "stdout",
     "output_type": "stream",
     "text": [
      "7\n"
     ]
    }
   ],
   "source": [
    "# Exercise 5\n",
    "\n",
    "prime = 223\n",
    "a = FieldElement(0, prime)\n",
    "b = FieldElement(7, prime)\n",
    "x = FieldElement(15, prime)\n",
    "y = FieldElement(86, prime)\n",
    "p = Point(x, y, a, b)\n",
    "inf = Point(None, None, a, b)\n",
    "\n",
    "# create a product variable\n",
    "# create a counter variable\n",
    "# loop until the product is the point at infinity\n",
    "# add the point to the product and increment counter\n",
    "# print the counter when exited from loop\n",
    "\n",
    "product = p\n",
    "count = 1\n",
    "while product != inf:\n",
    "    product += p\n",
    "    count += 1\n",
    "print(count)"
   ]
  },
  {
   "cell_type": "code",
   "execution_count": 67,
   "metadata": {},
   "outputs": [
    {
     "name": "stdout",
     "output_type": "stream",
     "text": [
      "Point(infinity)\n"
     ]
    }
   ],
   "source": [
    "from ecc import FieldElement, Point\n",
    "prime = 223\n",
    "a = FieldElement(0, prime)\n",
    "b = FieldElement(7, prime)\n",
    "x = FieldElement(15, prime)\n",
    "y = FieldElement(86, prime)\n",
    "p = Point(x, y, a, b)\n",
    "print(7*p)"
   ]
  },
  {
   "cell_type": "code",
   "execution_count": 69,
   "metadata": {},
   "outputs": [
    {
     "name": "stdout",
     "output_type": "stream",
     "text": [
      "True\n"
     ]
    }
   ],
   "source": [
    "gx = 0x79be667ef9dcbbac55a06295ce870b07029bfcdb2dce28d959f2815b16f81798\n",
    "gy = 0x483ada7726a3c4655da4fbfc0e1108a8fd17b448a68554199c47d08ffb10d4b8\n",
    "p = 2**256 - 2**32 - 977\n",
    "print(gy**2 % p == (gx**3 + 7) % p)"
   ]
  },
  {
   "cell_type": "code",
   "execution_count": 70,
   "metadata": {},
   "outputs": [
    {
     "name": "stdout",
     "output_type": "stream",
     "text": [
      "Point(infinity)\n"
     ]
    }
   ],
   "source": [
    "from ecc import FieldElement, Point\n",
    "gx = 0x79be667ef9dcbbac55a06295ce870b07029bfcdb2dce28d959f2815b16f81798\n",
    "gy = 0x483ada7726a3c4655da4fbfc0e1108a8fd17b448a68554199c47d08ffb10d4b8\n",
    "p = 2**256 - 2**32 - 977\n",
    "n = 0xfffffffffffffffffffffffffffffffebaaedce6af48a03bbfd25e8cd0364141\n",
    "x = FieldElement(gx, p)\n",
    "y = FieldElement(gy, p)\n",
    "seven = FieldElement(7, p)\n",
    "zero = FieldElement(0, p)\n",
    "G = Point(x, y, zero, seven)\n",
    "print(n*G)"
   ]
  },
  {
   "cell_type": "code",
   "execution_count": 71,
   "metadata": {},
   "outputs": [
    {
     "name": "stdout",
     "output_type": "stream",
     "text": [
      "S256Point(infinity)\n"
     ]
    }
   ],
   "source": [
    "from ecc import G, N\n",
    "print(N*G)"
   ]
  },
  {
   "cell_type": "code",
   "execution_count": 72,
   "metadata": {},
   "outputs": [
    {
     "name": "stdout",
     "output_type": "stream",
     "text": [
      "True\n"
     ]
    }
   ],
   "source": [
    "from ecc import S256Point, G, N\n",
    "z = 0xbc62d4b80d9e36da29c16c5d4d9f11731f36052c72401a76c23c0fb5a9b74423\n",
    "r = 0x37206a0610995c58074999cb9767b87af4c4978db68c06e8e6e81d282047a7c6\n",
    "s = 0x8ca63759c1157ebeaec0d03cecca119fc9a75bf8e6d0fa65c841c8e2738cdaec\n",
    "px = 0x04519fac3d910ca7e7138f7013706f619fa8f033e6ec6e09370ea38cee6a7574\n",
    "py = 0x82b51eab8c27c66e26c858a079bcdf4f1ada34cec420cafc7eac1a42216fb6c4\n",
    "point = S256Point(px, py)\n",
    "s_inv = pow(s, N-2, N)\n",
    "u = z * s_inv % N\n",
    "v = r * s_inv % N\n",
    "print((u*G + v*point).x.num == r)"
   ]
  },
  {
   "cell_type": "markdown",
   "metadata": {},
   "source": [
    "### Exercise 6\n",
    "\n",
    "Verify whether these signatures are valid:\n",
    "\n",
    "```\n",
    "P = (0x887387e452b8eacc4acfde10d9aaf7f6d9a0f975aabb10d006e4da568744d06c,\n",
    "0x61de6d95231cd89026e286df3b6ae4a894a3378e393e93a0f45b666329a0ae34)\n",
    "\n",
    "# signature 1\n",
    "z = 0xec208baa0fc1c19f708a9ca96fdeff3ac3f230bb4a7ba4aede4942ad003c0f60\n",
    "r = 0xac8d1c87e51d0d441be8b3dd5b05c8795b48875dffe00b7ffcfac23010d3a395\n",
    "s = 0x68342ceff8935ededd102dd876ffd6ba72d6a427a3edb13d26eb0781cb423c4\n",
    "\n",
    "# signature 2\n",
    "z = 0x7c076ff316692a3d7eb3c3bb0f8b1488cf72e1afcd929e29307032997a838a3d\n",
    "r = 0xeff69ef2b1bd93a66ed5219add4fb51e11a840f404876325a1e8ffe0529a2c\n",
    "s = 0xc7207fee197d27c618aea621406f6bf5ef6fca38681d82b2f06fddbdce6feab6\n",
    "```"
   ]
  },
  {
   "cell_type": "code",
   "execution_count": 75,
   "metadata": {},
   "outputs": [
    {
     "name": "stdout",
     "output_type": "stream",
     "text": [
      "True\n",
      "True\n"
     ]
    }
   ],
   "source": [
    "# Exercise 6\n",
    "\n",
    "point = S256Point(\n",
    "    0x887387e452b8eacc4acfde10d9aaf7f6d9a0f975aabb10d006e4da568744d06c, \n",
    "    0x61de6d95231cd89026e286df3b6ae4a894a3378e393e93a0f45b666329a0ae34)\n",
    "# signature 1\n",
    "z = 0xec208baa0fc1c19f708a9ca96fdeff3ac3f230bb4a7ba4aede4942ad003c0f60\n",
    "r = 0xac8d1c87e51d0d441be8b3dd5b05c8795b48875dffe00b7ffcfac23010d3a395\n",
    "s = 0x68342ceff8935ededd102dd876ffd6ba72d6a427a3edb13d26eb0781cb423c4\n",
    "s_inv = pow(s, N-2, N)\n",
    "u = z * s_inv % N\n",
    "v = r * s_inv % N\n",
    "print((u*G + v*point).x.num == r)\n",
    "\n",
    "# signature 2\n",
    "z = 0x7c076ff316692a3d7eb3c3bb0f8b1488cf72e1afcd929e29307032997a838a3d\n",
    "r = 0xeff69ef2b1bd93a66ed5219add4fb51e11a840f404876325a1e8ffe0529a2c\n",
    "s = 0xc7207fee197d27c618aea621406f6bf5ef6fca38681d82b2f06fddbdce6feab6\n",
    "s_inv = pow(s, N-2, N)\n",
    "u = z * s_inv % N\n",
    "v = r * s_inv % N\n",
    "print((u*G + v*point).x.num == r)\n"
   ]
  },
  {
   "cell_type": "code",
   "execution_count": 76,
   "metadata": {},
   "outputs": [
    {
     "name": "stdout",
     "output_type": "stream",
     "text": [
      "S256Point(028d003eab2e428d11983f3e97c3fa0addf3b42740df0d211795ffb3be2f6c52, 0ae987b9ec6ea159c78cb2a937ed89096fb218d9e7594f02b547526d8cd309e2)\n",
      "0x231c6f3d980a6b0fb7152f85cee7eb52bf92433d9919b9c5218cb08e79cce78\n",
      "0x2b698a0f0a4041b77e63488ad48c23e8e8838dd1fb7520408b121697b782ef22\n",
      "0xbb14e602ef9e3f872e25fad328466b34e6734b7a0fcd58b1eb635447ffae8cb9\n"
     ]
    }
   ],
   "source": [
    "from ecc import S256Point, G, N\n",
    "from helper import hash256\n",
    "e = int.from_bytes(hash256(b'my secret'), 'big')\n",
    "z = int.from_bytes(hash256(b'my message'), 'big')\n",
    "k = 1234567890\n",
    "r = (k*G).x.num\n",
    "k_inv = pow(k, N-2, N)\n",
    "s = (z+r*e) * k_inv % N\n",
    "point = e*G\n",
    "print(point)\n",
    "print(hex(z))\n",
    "print(hex(r))\n",
    "print(hex(s))"
   ]
  },
  {
   "cell_type": "markdown",
   "metadata": {},
   "source": [
    "### Exercise 7\n",
    "\n",
    "Sign the following message with the secret\n",
    "\n",
    "```\n",
    "e = 12345\n",
    "z = int.from_bytes(hash256('Programming Bitcoin!'), 'big')\n",
    "```"
   ]
  },
  {
   "cell_type": "code",
   "execution_count": 77,
   "metadata": {},
   "outputs": [
    {
     "name": "stdout",
     "output_type": "stream",
     "text": [
      "S256Point(f01d6b9018ab421dd410404cb869072065522bf85734008f105cf385a023a80f, 0eba29d0f0c5408ed681984dc525982abefccd9f7ff01dd26da4999cf3f6a295)\n",
      "0x969f6056aa26f7d2795fd013fe88868d09c9f6aed96965016e1936ae47060d48\n",
      "0x2b698a0f0a4041b77e63488ad48c23e8e8838dd1fb7520408b121697b782ef22\n",
      "0x1dbc63bfef4416705e602a7b564161167076d8b20990a0f26f316cff2cb0bc1a\n"
     ]
    }
   ],
   "source": [
    "# Exercise 7\n",
    "\n",
    "# Exercise 7\n",
    "\n",
    "e = 12345\n",
    "z = int.from_bytes(hash256(b'Programming Bitcoin!'), 'big')\n",
    "\n",
    "# choose a random k\n",
    "# calculate r (kG's x-coordinate)\n",
    "# calculate s ((z+re)/k)\n",
    "# print the point, z, r and s\n",
    "\n",
    "k = 1234567890\n",
    "r = (k*G).x.num\n",
    "k_inv = pow(k, N-2, N)\n",
    "s = (z+r*e) * k_inv % N\n",
    "point = e*G\n",
    "print(point)\n",
    "print(hex(z))\n",
    "print(hex(r))\n",
    "print(hex(s))"
   ]
  },
  {
   "cell_type": "code",
   "execution_count": null,
   "metadata": {},
   "outputs": [],
   "source": []
  }
 ],
 "metadata": {
  "kernelspec": {
   "display_name": "Python 3",
   "language": "python",
   "name": "python3"
  },
  "language_info": {
   "codemirror_mode": {
    "name": "ipython",
    "version": 3
   },
   "file_extension": ".py",
   "mimetype": "text/x-python",
   "name": "python",
   "nbconvert_exporter": "python",
   "pygments_lexer": "ipython3",
   "version": "3.6.10"
  }
 },
 "nbformat": 4,
 "nbformat_minor": 2
}
