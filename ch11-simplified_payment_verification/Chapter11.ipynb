{
 "cells": [
  {
   "cell_type": "code",
   "execution_count": 1,
   "metadata": {},
   "outputs": [],
   "source": [
    "############## PLEASE RUN THIS CELL FIRST! ###################\n",
    "\n",
    "# import everything and define a test runner function\n",
    "from importlib import reload\n",
    "from helper import run\n",
    "import block\n",
    "import ecc\n",
    "import helper\n",
    "import network\n",
    "import script\n",
    "import tx"
   ]
  },
  {
   "cell_type": "code",
   "execution_count": 2,
   "metadata": {},
   "outputs": [
    {
     "name": "stdout",
     "output_type": "stream",
     "text": [
      "8b30c5ba100f6f2e5ad1e2a742e5020491240f8eb514fe97c713c31718ad7ecd\n"
     ]
    }
   ],
   "source": [
    "from helper import hash256\n",
    "hash0 = bytes.fromhex('c117ea8ec828342f4dfb0ad6bd140e03a50720ece40169ee38bdc15d9eb64cf5')\n",
    "hash1 = bytes.fromhex('c131474164b412e3406696da1ee20ab0fc9bf41c8f05fa8ceea7a08d672d7cc5')\n",
    "parent = hash256(hash0 + hash1)\n",
    "print(parent.hex())"
   ]
  },
  {
   "cell_type": "markdown",
   "metadata": {},
   "source": [
    "### Exercise 1\n",
    "\n",
    "Write the `merkle_parent` function.\n",
    "\n",
    "#### Make [this test](/edit/code-ch11/helper.py) pass: `helper.py:HelperTest:test_merkle_parent`"
   ]
  },
  {
   "cell_type": "code",
   "execution_count": 4,
   "metadata": {},
   "outputs": [
    {
     "name": "stderr",
     "output_type": "stream",
     "text": [
      ".\n",
      "----------------------------------------------------------------------\n",
      "Ran 1 test in 0.001s\n",
      "\n",
      "OK\n"
     ]
    }
   ],
   "source": [
    "# Exercise 1\n",
    "\n",
    "reload(helper)\n",
    "run(helper.HelperTest(\"test_merkle_parent\"))"
   ]
  },
  {
   "cell_type": "code",
   "execution_count": 5,
   "metadata": {},
   "outputs": [
    {
     "name": "stdout",
     "output_type": "stream",
     "text": [
      "8b30c5ba100f6f2e5ad1e2a742e5020491240f8eb514fe97c713c31718ad7ecd\n",
      "7f4e6f9e224e20fda0ae4c44114237f97cd35aca38d83081c9bfd41feb907800\n",
      "3ecf6115380c77e8aae56660f5634982ee897351ba906a6837d15ebc3a225df0\n"
     ]
    }
   ],
   "source": [
    "from helper import merkle_parent\n",
    "hex_hashes = [\n",
    "    'c117ea8ec828342f4dfb0ad6bd140e03a50720ece40169ee38bdc15d9eb64cf5',\n",
    "    'c131474164b412e3406696da1ee20ab0fc9bf41c8f05fa8ceea7a08d672d7cc5',\n",
    "    'f391da6ecfeed1814efae39e7fcb3838ae0b02c02ae7d0a5848a66947c0727b0',\n",
    "    '3d238a92a94532b946c90e19c49351c763696cff3db400485b813aecb8a13181',\n",
    "    '10092f2633be5f3ce349bf9ddbde36caa3dd10dfa0ec8106bce23acbff637dae',\n",
    "]\n",
    "hashes = [bytes.fromhex(x) for x in hex_hashes]\n",
    "if len(hashes) % 2 == 1:\n",
    "    hashes.append(hashes[-1])\n",
    "parent_level = []\n",
    "for i in range(0, len(hashes), 2):\n",
    "    parent = merkle_parent(hashes[i], hashes[i+1])\n",
    "    parent_level.append(parent)\n",
    "for item in parent_level:\n",
    "    print(item.hex())"
   ]
  },
  {
   "cell_type": "code",
   "execution_count": 6,
   "metadata": {},
   "outputs": [
    {
     "data": {
      "text/plain": [
       "[b'\\xc1\\x17\\xea\\x8e\\xc8(4/M\\xfb\\n\\xd6\\xbd\\x14\\x0e\\x03\\xa5\\x07 \\xec\\xe4\\x01i\\xee8\\xbd\\xc1]\\x9e\\xb6L\\xf5',\n",
       " b'\\xc11GAd\\xb4\\x12\\xe3@f\\x96\\xda\\x1e\\xe2\\n\\xb0\\xfc\\x9b\\xf4\\x1c\\x8f\\x05\\xfa\\x8c\\xee\\xa7\\xa0\\x8dg-|\\xc5',\n",
       " b\"\\xf3\\x91\\xdan\\xcf\\xee\\xd1\\x81N\\xfa\\xe3\\x9e\\x7f\\xcb88\\xae\\x0b\\x02\\xc0*\\xe7\\xd0\\xa5\\x84\\x8af\\x94|\\x07'\\xb0\",\n",
       " b'=#\\x8a\\x92\\xa9E2\\xb9F\\xc9\\x0e\\x19\\xc4\\x93Q\\xc7cil\\xff=\\xb4\\x00H[\\x81:\\xec\\xb8\\xa11\\x81',\n",
       " b'\\x10\\t/&3\\xbe_<\\xe3I\\xbf\\x9d\\xdb\\xde6\\xca\\xa3\\xdd\\x10\\xdf\\xa0\\xec\\x81\\x06\\xbc\\xe2:\\xcb\\xffc}\\xae',\n",
       " b'\\x10\\t/&3\\xbe_<\\xe3I\\xbf\\x9d\\xdb\\xde6\\xca\\xa3\\xdd\\x10\\xdf\\xa0\\xec\\x81\\x06\\xbc\\xe2:\\xcb\\xffc}\\xae']"
      ]
     },
     "execution_count": 6,
     "metadata": {},
     "output_type": "execute_result"
    }
   ],
   "source": [
    "hashes"
   ]
  },
  {
   "cell_type": "code",
   "execution_count": 7,
   "metadata": {},
   "outputs": [
    {
     "data": {
      "text/plain": [
       "[b'\\x8b0\\xc5\\xba\\x10\\x0fo.Z\\xd1\\xe2\\xa7B\\xe5\\x02\\x04\\x91$\\x0f\\x8e\\xb5\\x14\\xfe\\x97\\xc7\\x13\\xc3\\x17\\x18\\xad~\\xcd',\n",
       " b'\\x7fNo\\x9e\"N \\xfd\\xa0\\xaeLD\\x11B7\\xf9|\\xd3Z\\xca8\\xd80\\x81\\xc9\\xbf\\xd4\\x1f\\xeb\\x90x\\x00',\n",
       " b'>\\xcfa\\x158\\x0cw\\xe8\\xaa\\xe5f`\\xf5cI\\x82\\xee\\x89sQ\\xba\\x90jh7\\xd1^\\xbc:\"]\\xf0']"
      ]
     },
     "execution_count": 7,
     "metadata": {},
     "output_type": "execute_result"
    }
   ],
   "source": [
    "parent_level"
   ]
  },
  {
   "cell_type": "markdown",
   "metadata": {},
   "source": [
    "### Exercise 2\n",
    "\n",
    "Write the `merkle_parent_level` function.\n",
    "\n",
    "#### Make [this test](/edit/code-ch11/helper.py) pass: `helper.py:HelperTest:test_merkle_parent_level`"
   ]
  },
  {
   "cell_type": "code",
   "execution_count": 8,
   "metadata": {},
   "outputs": [
    {
     "name": "stderr",
     "output_type": "stream",
     "text": [
      ".\n",
      "----------------------------------------------------------------------\n",
      "Ran 1 test in 0.001s\n",
      "\n",
      "OK\n"
     ]
    }
   ],
   "source": [
    "# Exercise 2\n",
    "\n",
    "reload(helper)\n",
    "run(helper.HelperTest(\"test_merkle_parent_level\"))"
   ]
  },
  {
   "cell_type": "code",
   "execution_count": 12,
   "metadata": {},
   "outputs": [
    {
     "name": "stdout",
     "output_type": "stream",
     "text": [
      "acbcab8bcc1af95d8d563b77d24c3d19b18f1486383d75a5085c4e86c86beed6\n"
     ]
    }
   ],
   "source": [
    "from helper import merkle_parent_level\n",
    "hex_hashes = [\n",
    "    'c117ea8ec828342f4dfb0ad6bd140e03a50720ece40169ee38bdc15d9eb64cf5',\n",
    "    'c131474164b412e3406696da1ee20ab0fc9bf41c8f05fa8ceea7a08d672d7cc5',\n",
    "    'f391da6ecfeed1814efae39e7fcb3838ae0b02c02ae7d0a5848a66947c0727b0',\n",
    "    '3d238a92a94532b946c90e19c49351c763696cff3db400485b813aecb8a13181',\n",
    "    '10092f2633be5f3ce349bf9ddbde36caa3dd10dfa0ec8106bce23acbff637dae',\n",
    "    '7d37b3d54fa6a64869084bfd2e831309118b9e833610e6228adacdbd1b4ba161',\n",
    "    '8118a77e542892fe15ae3fc771a4abfd2f5d5d5997544c3487ac36b5c85170fc',\n",
    "    'dff6879848c2c9b62fe652720b8df5272093acfaa45a43cdb3696fe2466a3877',\n",
    "    'b825c0745f46ac58f7d3759e6dc535a1fec7820377f24d4c2c6ad2cc55c0cb59',\n",
    "    '95513952a04bd8992721e9b7e2937f1c04ba31e0469fbe615a78197f68f52b7c',\n",
    "    '2e6d722e5e4dbdf2447ddecc9f7dabb8e299bae921c99ad5b0184cd9eb8e5908',\n",
    "    'b13a750047bc0bdceb2473e5fe488c2596d7a7124b4e716fdd29b046ef99bbf0',\n",
    "]\n",
    "hashes = [bytes.fromhex(x) for x in hex_hashes]\n",
    "current_hashes = hashes\n",
    "while len(current_hashes) > 1:\n",
    "    current_hashes = merkle_parent_level(current_hashes)\n",
    "print(current_hashes[0].hex())"
   ]
  },
  {
   "cell_type": "code",
   "execution_count": 13,
   "metadata": {},
   "outputs": [
    {
     "data": {
      "text/plain": [
       "[b'\\xc1\\x17\\xea\\x8e\\xc8(4/M\\xfb\\n\\xd6\\xbd\\x14\\x0e\\x03\\xa5\\x07 \\xec\\xe4\\x01i\\xee8\\xbd\\xc1]\\x9e\\xb6L\\xf5',\n",
       " b'\\xc11GAd\\xb4\\x12\\xe3@f\\x96\\xda\\x1e\\xe2\\n\\xb0\\xfc\\x9b\\xf4\\x1c\\x8f\\x05\\xfa\\x8c\\xee\\xa7\\xa0\\x8dg-|\\xc5',\n",
       " b\"\\xf3\\x91\\xdan\\xcf\\xee\\xd1\\x81N\\xfa\\xe3\\x9e\\x7f\\xcb88\\xae\\x0b\\x02\\xc0*\\xe7\\xd0\\xa5\\x84\\x8af\\x94|\\x07'\\xb0\",\n",
       " b'=#\\x8a\\x92\\xa9E2\\xb9F\\xc9\\x0e\\x19\\xc4\\x93Q\\xc7cil\\xff=\\xb4\\x00H[\\x81:\\xec\\xb8\\xa11\\x81',\n",
       " b'\\x10\\t/&3\\xbe_<\\xe3I\\xbf\\x9d\\xdb\\xde6\\xca\\xa3\\xdd\\x10\\xdf\\xa0\\xec\\x81\\x06\\xbc\\xe2:\\xcb\\xffc}\\xae',\n",
       " b'}7\\xb3\\xd5O\\xa6\\xa6Hi\\x08K\\xfd.\\x83\\x13\\t\\x11\\x8b\\x9e\\x836\\x10\\xe6\"\\x8a\\xda\\xcd\\xbd\\x1bK\\xa1a',\n",
       " b'\\x81\\x18\\xa7~T(\\x92\\xfe\\x15\\xae?\\xc7q\\xa4\\xab\\xfd/]]Y\\x97TL4\\x87\\xac6\\xb5\\xc8Qp\\xfc',\n",
       " b\"\\xdf\\xf6\\x87\\x98H\\xc2\\xc9\\xb6/\\xe6Rr\\x0b\\x8d\\xf5' \\x93\\xac\\xfa\\xa4ZC\\xcd\\xb3io\\xe2Fj8w\",\n",
       " b'\\xb8%\\xc0t_F\\xacX\\xf7\\xd3u\\x9em\\xc55\\xa1\\xfe\\xc7\\x82\\x03w\\xf2ML,j\\xd2\\xccU\\xc0\\xcbY',\n",
       " b\"\\x95Q9R\\xa0K\\xd8\\x99'!\\xe9\\xb7\\xe2\\x93\\x7f\\x1c\\x04\\xba1\\xe0F\\x9f\\xbeaZx\\x19\\x7fh\\xf5+|\",\n",
       " b'.mr.^M\\xbd\\xf2D}\\xde\\xcc\\x9f}\\xab\\xb8\\xe2\\x99\\xba\\xe9!\\xc9\\x9a\\xd5\\xb0\\x18L\\xd9\\xeb\\x8eY\\x08',\n",
       " b'\\xb1:u\\x00G\\xbc\\x0b\\xdc\\xeb$s\\xe5\\xfeH\\x8c%\\x96\\xd7\\xa7\\x12KNqo\\xdd)\\xb0F\\xef\\x99\\xbb\\xf0']"
      ]
     },
     "execution_count": 13,
     "metadata": {},
     "output_type": "execute_result"
    }
   ],
   "source": [
    "hashes"
   ]
  },
  {
   "cell_type": "code",
   "execution_count": 14,
   "metadata": {},
   "outputs": [
    {
     "data": {
      "text/plain": [
       "[b'\\xac\\xbc\\xab\\x8b\\xcc\\x1a\\xf9]\\x8dV;w\\xd2L=\\x19\\xb1\\x8f\\x14\\x868=u\\xa5\\x08\\\\N\\x86\\xc8k\\xee\\xd6']"
      ]
     },
     "execution_count": 14,
     "metadata": {},
     "output_type": "execute_result"
    }
   ],
   "source": [
    "current_hashes"
   ]
  },
  {
   "cell_type": "markdown",
   "metadata": {},
   "source": [
    "### Exercise 3\n",
    "\n",
    "Write the `merkle_root` function.\n",
    "\n",
    "#### Make [this test](/edit/code-ch11/helper.py) pass: `helper.py:HelperTest:test_merkle_root`"
   ]
  },
  {
   "cell_type": "code",
   "execution_count": 16,
   "metadata": {},
   "outputs": [
    {
     "name": "stderr",
     "output_type": "stream",
     "text": [
      ".\n",
      "----------------------------------------------------------------------\n",
      "Ran 1 test in 0.001s\n",
      "\n",
      "OK\n"
     ]
    }
   ],
   "source": [
    "# Exercise 3\n",
    "\n",
    "reload(helper)\n",
    "run(helper.HelperTest(\"test_merkle_root\"))"
   ]
  },
  {
   "cell_type": "code",
   "execution_count": 17,
   "metadata": {},
   "outputs": [
    {
     "name": "stdout",
     "output_type": "stream",
     "text": [
      "654d6181e18e4ac4368383fdc5eead11bf138f9b7ac1e15334e4411b3c4797d9\n"
     ]
    }
   ],
   "source": [
    "from helper import merkle_root\n",
    "tx_hex_hashes = [\n",
    "    '42f6f52f17620653dcc909e58bb352e0bd4bd1381e2955d19c00959a22122b2e',\n",
    "    '94c3af34b9667bf787e1c6a0a009201589755d01d02fe2877cc69b929d2418d4',\n",
    "    '959428d7c48113cb9149d0566bde3d46e98cf028053c522b8fa8f735241aa953',\n",
    "    'a9f27b99d5d108dede755710d4a1ffa2c74af70b4ca71726fa57d68454e609a2',\n",
    "    '62af110031e29de1efcad103b3ad4bec7bdcf6cb9c9f4afdd586981795516577',\n",
    "    '766900590ece194667e9da2984018057512887110bf54fe0aa800157aec796ba',\n",
    "    'e8270fb475763bc8d855cfe45ed98060988c1bdcad2ffc8364f783c98999a208',\n",
    "]\n",
    "tx_hashes = [bytes.fromhex(x) for x in tx_hex_hashes]\n",
    "hashes = [h[::-1] for h in tx_hashes]\n",
    "print(merkle_root(hashes)[::-1].hex())"
   ]
  },
  {
   "cell_type": "code",
   "execution_count": 18,
   "metadata": {},
   "outputs": [
    {
     "data": {
      "text/plain": [
       "[b'.+\\x12\"\\x9a\\x95\\x00\\x9c\\xd1U)\\x1e8\\xd1K\\xbd\\xe0R\\xb3\\x8b\\xe5\\t\\xc9\\xdcS\\x06b\\x17/\\xf5\\xf6B',\n",
       " b'\\xd4\\x18$\\x9d\\x92\\x9b\\xc6|\\x87\\xe2/\\xd0\\x01]u\\x89\\x15 \\t\\xa0\\xa0\\xc6\\xe1\\x87\\xf7{f\\xb94\\xaf\\xc3\\x94',\n",
       " b'S\\xa9\\x1a$5\\xf7\\xa8\\x8f+R<\\x05(\\xf0\\x8c\\xe9F=\\xdekV\\xd0I\\x91\\xcb\\x13\\x81\\xc4\\xd7(\\x94\\x95',\n",
       " b'\\xa2\\t\\xe6T\\x84\\xd6W\\xfa&\\x17\\xa7L\\x0b\\xf7J\\xc7\\xa2\\xff\\xa1\\xd4\\x10Wu\\xde\\xde\\x08\\xd1\\xd5\\x99{\\xf2\\xa9',\n",
       " b'weQ\\x95\\x17\\x98\\x86\\xd5\\xfdJ\\x9f\\x9c\\xcb\\xf6\\xdc{\\xecK\\xad\\xb3\\x03\\xd1\\xca\\xef\\xe1\\x9d\\xe21\\x00\\x11\\xafb',\n",
       " b'\\xba\\x96\\xc7\\xaeW\\x01\\x80\\xaa\\xe0O\\xf5\\x0b\\x11\\x87(QW\\x80\\x01\\x84)\\xda\\xe9gF\\x19\\xce\\x0eY\\x00iv',\n",
       " b\"\\x08\\xa2\\x99\\x89\\xc9\\x83\\xf7d\\x83\\xfc/\\xad\\xdc\\x1b\\x8c\\x98`\\x80\\xd9^\\xe4\\xcfU\\xd8\\xc8;vu\\xb4\\x0f'\\xe8\",\n",
       " b\"\\x08\\xa2\\x99\\x89\\xc9\\x83\\xf7d\\x83\\xfc/\\xad\\xdc\\x1b\\x8c\\x98`\\x80\\xd9^\\xe4\\xcfU\\xd8\\xc8;vu\\xb4\\x0f'\\xe8\"]"
      ]
     },
     "execution_count": 18,
     "metadata": {},
     "output_type": "execute_result"
    }
   ],
   "source": [
    "hashes"
   ]
  },
  {
   "cell_type": "code",
   "execution_count": 19,
   "metadata": {},
   "outputs": [
    {
     "data": {
      "text/plain": [
       "b'\\xd9\\x97G<\\x1bA\\xe44S\\xe1\\xc1z\\x9b\\x8f\\x13\\xbf\\x11\\xad\\xee\\xc5\\xfd\\x83\\x836\\xc4J\\x8e\\xe1\\x81aMe'"
      ]
     },
     "execution_count": 19,
     "metadata": {},
     "output_type": "execute_result"
    }
   ],
   "source": [
    "merkle_root(hashes)"
   ]
  },
  {
   "cell_type": "code",
   "execution_count": 20,
   "metadata": {},
   "outputs": [
    {
     "data": {
      "text/plain": [
       "b'eMa\\x81\\xe1\\x8eJ\\xc46\\x83\\x83\\xfd\\xc5\\xee\\xad\\x11\\xbf\\x13\\x8f\\x9bz\\xc1\\xe1S4\\xe4A\\x1b<G\\x97\\xd9'"
      ]
     },
     "execution_count": 20,
     "metadata": {},
     "output_type": "execute_result"
    }
   ],
   "source": [
    "merkle_root(hashes)[::-1]"
   ]
  },
  {
   "cell_type": "markdown",
   "metadata": {},
   "source": [
    "### Exercise 4\n",
    "\n",
    "Write the `validate_merkle_root` method for `Block`.\n",
    "\n",
    "#### Make [this test](/edit/code-ch11/block.py) pass: `block.py:BlockTest:test_validate_merkle_root`"
   ]
  },
  {
   "cell_type": "code",
   "execution_count": 21,
   "metadata": {},
   "outputs": [
    {
     "name": "stderr",
     "output_type": "stream",
     "text": [
      ".\n",
      "----------------------------------------------------------------------\n",
      "Ran 1 test in 0.001s\n",
      "\n",
      "OK\n"
     ]
    }
   ],
   "source": [
    "# Exercise 4\n",
    "\n",
    "reload(block)\n",
    "run(block.BlockTest(\"test_validate_merkle_root\"))"
   ]
  },
  {
   "cell_type": "code",
   "execution_count": 22,
   "metadata": {},
   "outputs": [
    {
     "name": "stdout",
     "output_type": "stream",
     "text": [
      "[None]\n",
      "[None, None]\n",
      "[None, None, None, None]\n",
      "[None, None, None, None, None, None, None, None]\n",
      "[None, None, None, None, None, None, None, None, None, None, None, None, None, None, None, None]\n"
     ]
    }
   ],
   "source": [
    "import math\n",
    "total = 16\n",
    "max_depth = math.ceil(math.log(total, 2))\n",
    "merkle_tree = []\n",
    "for depth in range(max_depth + 1):\n",
    "    num_items = math.ceil(total / 2**(max_depth - depth))\n",
    "    level_hashes = [None] * num_items\n",
    "    merkle_tree.append(level_hashes)\n",
    "for level in merkle_tree:\n",
    "    print(level)"
   ]
  },
  {
   "cell_type": "markdown",
   "metadata": {},
   "source": [
    "### Exercise 5\n",
    "\n",
    "Create an empty Merkle Tree with 27 items and print each level."
   ]
  },
  {
   "cell_type": "code",
   "execution_count": 23,
   "metadata": {},
   "outputs": [
    {
     "name": "stdout",
     "output_type": "stream",
     "text": [
      "[None]\n",
      "[None, None]\n",
      "[None, None, None, None]\n",
      "[None, None, None, None, None, None, None]\n",
      "[None, None, None, None, None, None, None, None, None, None, None, None, None, None]\n",
      "[None, None, None, None, None, None, None, None, None, None, None, None, None, None, None, None, None, None, None, None, None, None, None, None, None, None, None]\n"
     ]
    }
   ],
   "source": [
    "# Exercise 5\n",
    "\n",
    "import math\n",
    "\n",
    "total = 27\n",
    "# use math.ceil(math.log(total, 2)) to get the max depth\n",
    "# create an array of arrays for the tree\n",
    "# loop through all possible depths\n",
    "    # get how many items at this depth\n",
    "    # use math.ceil(total / 2**(max depth - current depth))\n",
    "    # create an empty array for this level\n",
    "    # append the level to the tree\n",
    "# print the tree\n",
    "\n",
    "max_depth = math.ceil(math.log(total, 2))\n",
    "merkle_tree = []\n",
    "for depth in range(max_depth + 1):\n",
    "    num_items = math.ceil(total / 2**(max_depth - depth))\n",
    "    level_hashes = [None] * num_items\n",
    "    merkle_tree.append(level_hashes)\n",
    "for level in merkle_tree:\n",
    "    print(level)"
   ]
  },
  {
   "cell_type": "code",
   "execution_count": 24,
   "metadata": {},
   "outputs": [
    {
     "name": "stdout",
     "output_type": "stream",
     "text": [
      "*597c4baf.*\n",
      "6382df3f..., 87cf8fa3...\n",
      "3ba6c080..., 8e894862..., 7ab01bb6..., 3df760ac...\n",
      "272945ec..., 9a38d037..., 4a64abd9..., ec7c95e1..., 3b67006c..., 850683df..., d40d268b..., 8636b7a3...\n",
      "9745f717..., 5573c8ed..., 82a02ecb..., 507ccae5..., a7a4aec2..., bb626766..., ea6d7ac1..., 45774386..., 76880292..., b1ae7f15..., 9b74f89f..., b3a92b5b..., b5c0b915..., c9d52c5c..., c555bc5f..., f9dbfafc...\n"
     ]
    }
   ],
   "source": [
    "from merkleblock import MerkleTree\n",
    "from helper import merkle_parent_level\n",
    "hex_hashes = [\n",
    "    \"9745f7173ef14ee4155722d1cbf13304339fd00d900b759c6f9d58579b5765fb\",\n",
    "    \"5573c8ede34936c29cdfdfe743f7f5fdfbd4f54ba0705259e62f39917065cb9b\",\n",
    "    \"82a02ecbb6623b4274dfcab82b336dc017a27136e08521091e443e62582e8f05\",\n",
    "    \"507ccae5ed9b340363a0e6d765af148be9cb1c8766ccc922f83e4ae681658308\",\n",
    "    \"a7a4aec28e7162e1e9ef33dfa30f0bc0526e6cf4b11a576f6c5de58593898330\",\n",
    "    \"bb6267664bd833fd9fc82582853ab144fece26b7a8a5bf328f8a059445b59add\",\n",
    "    \"ea6d7ac1ee77fbacee58fc717b990c4fcccf1b19af43103c090f601677fd8836\",\n",
    "    \"457743861de496c429912558a106b810b0507975a49773228aa788df40730d41\",\n",
    "    \"7688029288efc9e9a0011c960a6ed9e5466581abf3e3a6c26ee317461add619a\",\n",
    "    \"b1ae7f15836cb2286cdd4e2c37bf9bb7da0a2846d06867a429f654b2e7f383c9\",\n",
    "    \"9b74f89fa3f93e71ff2c241f32945d877281a6a50a6bf94adac002980aafe5ab\",\n",
    "    \"b3a92b5b255019bdaf754875633c2de9fec2ab03e6b8ce669d07cb5b18804638\",\n",
    "    \"b5c0b915312b9bdaedd2b86aa2d0f8feffc73a2d37668fd9010179261e25e263\",\n",
    "    \"c9d52c5cb1e557b92c84c52e7c4bfbce859408bedffc8a5560fd6e35e10b8800\",\n",
    "    \"c555bc5fc3bc096df0a0c9532f07640bfb76bfe4fc1ace214b8b228a1297a4c2\",\n",
    "    \"f9dbfafc3af3400954975da24eb325e326960a25b87fffe23eef3e7ed2fb610e\",\n",
    "]\n",
    "tree = MerkleTree(len(hex_hashes))\n",
    "tree.nodes[4] = [bytes.fromhex(h) for h in hex_hashes]\n",
    "tree.nodes[3] = merkle_parent_level(tree.nodes[4])\n",
    "tree.nodes[2] = merkle_parent_level(tree.nodes[3])\n",
    "tree.nodes[1] = merkle_parent_level(tree.nodes[2])\n",
    "tree.nodes[0] = merkle_parent_level(tree.nodes[1])\n",
    "print(tree)"
   ]
  },
  {
   "cell_type": "code",
   "execution_count": 25,
   "metadata": {},
   "outputs": [
    {
     "data": {
      "text/plain": [
       "[[b'Y|K\\xaf\\xe3\\x83+\\x17\\xcb\\xba\\xbeV\\xf8x\\xf4\\xfc*\\xd0\\xf6\\xa4\\x02\\xce\\xe7\\xfa\\x85\\x1a\\x9c\\xb2\\x05\\xf8~\\xd1'],\n",
       " [b'c\\x82\\xdf?:\\x0b\\x13#\\xffs\\xf4\\xdaP\\xdc^1\\x84hsM`T\\x11\\x14\\x81\\x92\\x1d\\x84\\\\\\x02\\x0b\\x93',\n",
       "  b'\\x87\\xcf\\x8f\\xa3\\xfd=\\x19\\xd08\\x80l\\xa7\\x08*p\\xbe\\x853\\xd7Pb\\xc5\\xf5\\xd7\\xacC1\\x17z\\xebHX'],\n",
       " [b';\\xa6\\xc0\\x80\\xd1e\\xdc\\xa3\\x90\\xc73\\xe5\\xda\\xd2_\\xbc\\xf4\\x1f\\xfc\\x1d\\xe6\\xc1\\xbf\\xc6\\xa6\\xf6\\xbf\\x9c\\xe42\\xcc;',\n",
       "  b'\\x8e\\x89Hb\\x1dkNt*%y\\x8c\\xcc\\xdc\\x90\\xb6\\x88;\\xe4\\x99a\\x18A\\x0b\\xcd]\\x1c\\xb0\\xcb\\xdb\\x87\\xf7',\n",
       "  b'z\\xb0\\x1b\\xb6=E\\xa0W!\\xc8\\xd1\\xf6S\\xfc\\xf7o\\xec\\xc3w1[>`\\x05\\x1eN\\x9f\\xd2\\x8e\\xb5\\xb9b',\n",
       "  b'=\\xf7`\\xac\\x18\\x07\\xf8\\x0e\\xacH\\x8f\\xe1]-\\xbfP\\x1e\\x9a\\xf96\\xa0\\x9b\\x11\\xb0\\x87\\xbd\\x00\\xf4\\x8dw\\xae\\xa3'],\n",
       " [b\"')E\\xec\\xde\\x85\\xe0O\\xb42N\\xd0J\\xa7S'~\\xae\\x9f\\xd95f$\\xbd\\xf4&uI+W\\x91\\xab\",\n",
       "  b'\\x9a8\\xd07\\xbb\\xa2AUG\\x96\\x89\\x91\\xed\\r\\x8c\\x07<\\x8a\\x9a\\xc4)\\x03\\x8bsHp\\x1a\\x98\\x08\\xed\\x96\\xa5',\n",
       "  b'Jd\\xab\\xd91\\xabN\\x0c\\xcd\\x85k\\x06M\\x17\\xc4\\xf3\\xf4\\xaa\\xe9h\\xa7]\\xda\\x1bk\\x8c?2\\xa9\\x0b\\x0c!',\n",
       "  b'\\xec|\\x95\\xe1\\xee\\x04\\xcet\\xfay\\x02\\x86\\x9b\\x0fJ\\xc0W\\xb4\\x07z\\x0c; 9{\\xc9r1\\x8f\\xa9\\x80\\r',\n",
       "  b';g\\x00l\\xcf\\x7f\\xe5Kl\\xb3\\xb2\\xd7\\xb9\\xb0?\\xb0\\xb9A\\x85\\xe1-\\x08jB\\xeb/2\\xd2\\x9dSY\\x18',\n",
       "  b'\\x85\\x06\\x83\\xdf\\xa6\\x0es\\xc3\\x1c\\x9b\\xb9,\\xe3\\xd3%\\xc0*\\x1e\\x7f\\xf9\\xd1\\x0f\\xeeM\\x0b\\xd8x\\x11/G\\x8c\\xc8',\n",
       "  b'\\xd4\\r&\\x8b\\x9d-G\\xfa\\xbd\\x96?\\x8aF\\xc9Wu\\xfe\\xb0]\\x98\\xcf\\xb8\"\\x14P\\xa6\\x8b\\xef!\\xa3\\xdf\\\\',\n",
       "  b'\\x866\\xb7\\xa3\\x93Zh\\xe4\\x9d\\xd1\\x9f\\xc2$\\xa81\\x8fN\\xe3\\xc1G\\x91\\xb38\\x8fG\\xf9\\xdc=\\xee\"G\\xd1'],\n",
       " [b'\\x97E\\xf7\\x17>\\xf1N\\xe4\\x15W\"\\xd1\\xcb\\xf13\\x043\\x9f\\xd0\\r\\x90\\x0bu\\x9co\\x9dXW\\x9bWe\\xfb',\n",
       "  b'Us\\xc8\\xed\\xe3I6\\xc2\\x9c\\xdf\\xdf\\xe7C\\xf7\\xf5\\xfd\\xfb\\xd4\\xf5K\\xa0pRY\\xe6/9\\x91pe\\xcb\\x9b',\n",
       "  b'\\x82\\xa0.\\xcb\\xb6b;Bt\\xdf\\xca\\xb8+3m\\xc0\\x17\\xa2q6\\xe0\\x85!\\t\\x1eD>bX.\\x8f\\x05',\n",
       "  b'P|\\xca\\xe5\\xed\\x9b4\\x03c\\xa0\\xe6\\xd7e\\xaf\\x14\\x8b\\xe9\\xcb\\x1c\\x87f\\xcc\\xc9\"\\xf8>J\\xe6\\x81e\\x83\\x08',\n",
       "  b'\\xa7\\xa4\\xae\\xc2\\x8eqb\\xe1\\xe9\\xef3\\xdf\\xa3\\x0f\\x0b\\xc0Rnl\\xf4\\xb1\\x1aWol]\\xe5\\x85\\x93\\x89\\x830',\n",
       "  b'\\xbbbgfK\\xd83\\xfd\\x9f\\xc8%\\x82\\x85:\\xb1D\\xfe\\xce&\\xb7\\xa8\\xa5\\xbf2\\x8f\\x8a\\x05\\x94E\\xb5\\x9a\\xdd',\n",
       "  b'\\xeamz\\xc1\\xeew\\xfb\\xac\\xeeX\\xfcq{\\x99\\x0cO\\xcc\\xcf\\x1b\\x19\\xafC\\x10<\\t\\x0f`\\x16w\\xfd\\x886',\n",
       "  b'EwC\\x86\\x1d\\xe4\\x96\\xc4)\\x91%X\\xa1\\x06\\xb8\\x10\\xb0Pyu\\xa4\\x97s\"\\x8a\\xa7\\x88\\xdf@s\\rA',\n",
       "  b'v\\x88\\x02\\x92\\x88\\xef\\xc9\\xe9\\xa0\\x01\\x1c\\x96\\nn\\xd9\\xe5Fe\\x81\\xab\\xf3\\xe3\\xa6\\xc2n\\xe3\\x17F\\x1a\\xdda\\x9a',\n",
       "  b'\\xb1\\xae\\x7f\\x15\\x83l\\xb2(l\\xddN,7\\xbf\\x9b\\xb7\\xda\\n(F\\xd0hg\\xa4)\\xf6T\\xb2\\xe7\\xf3\\x83\\xc9',\n",
       "  b'\\x9bt\\xf8\\x9f\\xa3\\xf9>q\\xff,$\\x1f2\\x94]\\x87r\\x81\\xa6\\xa5\\nk\\xf9J\\xda\\xc0\\x02\\x98\\n\\xaf\\xe5\\xab',\n",
       "  b'\\xb3\\xa9+[%P\\x19\\xbd\\xafuHuc<-\\xe9\\xfe\\xc2\\xab\\x03\\xe6\\xb8\\xcef\\x9d\\x07\\xcb[\\x18\\x80F8',\n",
       "  b'\\xb5\\xc0\\xb9\\x151+\\x9b\\xda\\xed\\xd2\\xb8j\\xa2\\xd0\\xf8\\xfe\\xff\\xc7:-7f\\x8f\\xd9\\x01\\x01y&\\x1e%\\xe2c',\n",
       "  b'\\xc9\\xd5,\\\\\\xb1\\xe5W\\xb9,\\x84\\xc5.|K\\xfb\\xce\\x85\\x94\\x08\\xbe\\xdf\\xfc\\x8aU`\\xfdn5\\xe1\\x0b\\x88\\x00',\n",
       "  b'\\xc5U\\xbc_\\xc3\\xbc\\tm\\xf0\\xa0\\xc9S/\\x07d\\x0b\\xfbv\\xbf\\xe4\\xfc\\x1a\\xce!K\\x8b\"\\x8a\\x12\\x97\\xa4\\xc2',\n",
       "  b'\\xf9\\xdb\\xfa\\xfc:\\xf3@\\tT\\x97]\\xa2N\\xb3%\\xe3&\\x96\\n%\\xb8\\x7f\\xff\\xe2>\\xef>~\\xd2\\xfba\\x0e']]"
      ]
     },
     "execution_count": 25,
     "metadata": {},
     "output_type": "execute_result"
    }
   ],
   "source": [
    "tree.nodes"
   ]
  },
  {
   "cell_type": "code",
   "execution_count": 26,
   "metadata": {},
   "outputs": [
    {
     "name": "stdout",
     "output_type": "stream",
     "text": [
      "597c4baf...\n",
      "6382df3f..., 87cf8fa3...\n",
      "3ba6c080..., 8e894862..., 7ab01bb6..., 3df760ac...\n",
      "272945ec..., 9a38d037..., 4a64abd9..., ec7c95e1..., 3b67006c..., 850683df..., d40d268b..., 8636b7a3...\n",
      "9745f717..., 5573c8ed..., 82a02ecb..., 507ccae5..., a7a4aec2..., bb626766..., ea6d7ac1..., 45774386..., 76880292..., b1ae7f15..., 9b74f89f..., b3a92b5b..., b5c0b915..., c9d52c5c..., c555bc5f..., f9dbfafc...\n"
     ]
    }
   ],
   "source": [
    "from merkleblock import MerkleTree\n",
    "from helper import merkle_parent\n",
    "hex_hashes = [\n",
    "    \"9745f7173ef14ee4155722d1cbf13304339fd00d900b759c6f9d58579b5765fb\",\n",
    "    \"5573c8ede34936c29cdfdfe743f7f5fdfbd4f54ba0705259e62f39917065cb9b\",\n",
    "    \"82a02ecbb6623b4274dfcab82b336dc017a27136e08521091e443e62582e8f05\",\n",
    "    \"507ccae5ed9b340363a0e6d765af148be9cb1c8766ccc922f83e4ae681658308\",\n",
    "    \"a7a4aec28e7162e1e9ef33dfa30f0bc0526e6cf4b11a576f6c5de58593898330\",\n",
    "    \"bb6267664bd833fd9fc82582853ab144fece26b7a8a5bf328f8a059445b59add\",\n",
    "    \"ea6d7ac1ee77fbacee58fc717b990c4fcccf1b19af43103c090f601677fd8836\",\n",
    "    \"457743861de496c429912558a106b810b0507975a49773228aa788df40730d41\",\n",
    "    \"7688029288efc9e9a0011c960a6ed9e5466581abf3e3a6c26ee317461add619a\",\n",
    "    \"b1ae7f15836cb2286cdd4e2c37bf9bb7da0a2846d06867a429f654b2e7f383c9\",\n",
    "    \"9b74f89fa3f93e71ff2c241f32945d877281a6a50a6bf94adac002980aafe5ab\",\n",
    "    \"b3a92b5b255019bdaf754875633c2de9fec2ab03e6b8ce669d07cb5b18804638\",\n",
    "    \"b5c0b915312b9bdaedd2b86aa2d0f8feffc73a2d37668fd9010179261e25e263\",\n",
    "    \"c9d52c5cb1e557b92c84c52e7c4bfbce859408bedffc8a5560fd6e35e10b8800\",\n",
    "    \"c555bc5fc3bc096df0a0c9532f07640bfb76bfe4fc1ace214b8b228a1297a4c2\",\n",
    "    \"f9dbfafc3af3400954975da24eb325e326960a25b87fffe23eef3e7ed2fb610e\",\n",
    "]\n",
    "tree = MerkleTree(len(hex_hashes))\n",
    "tree.nodes[4] = [bytes.fromhex(h) for h in hex_hashes]\n",
    "while tree.root() is None:\n",
    "    if tree.is_leaf():\n",
    "        tree.up()\n",
    "    else:\n",
    "        left_hash = tree.get_left_node()\n",
    "        right_hash = tree.get_right_node()\n",
    "        if left_hash is None:\n",
    "            tree.left()\n",
    "        elif right_hash is None:\n",
    "            tree.right()\n",
    "        else:\n",
    "            tree.set_current_node(merkle_parent(left_hash, right_hash))\n",
    "            tree.up()\n",
    "print(tree)"
   ]
  },
  {
   "cell_type": "code",
   "execution_count": 27,
   "metadata": {},
   "outputs": [
    {
     "name": "stdout",
     "output_type": "stream",
     "text": [
      "0a313864...\n",
      "597c4baf..., 6f8a8190...\n",
      "6382df3f..., 87cf8fa3..., 5647f416...\n",
      "3ba6c080..., 8e894862..., 7ab01bb6..., 3df760ac..., 28e93b98...\n",
      "272945ec..., 9a38d037..., 4a64abd9..., ec7c95e1..., 3b67006c..., 850683df..., d40d268b..., 8636b7a3..., ce26d40b...\n",
      "9745f717..., 5573c8ed..., 82a02ecb..., 507ccae5..., a7a4aec2..., bb626766..., ea6d7ac1..., 45774386..., 76880292..., b1ae7f15..., 9b74f89f..., b3a92b5b..., b5c0b915..., c9d52c5c..., c555bc5f..., f9dbfafc..., 38faf8c8...\n"
     ]
    }
   ],
   "source": [
    "from merkleblock import MerkleTree\n",
    "from helper import merkle_parent\n",
    "hex_hashes = [\n",
    "    \"9745f7173ef14ee4155722d1cbf13304339fd00d900b759c6f9d58579b5765fb\",\n",
    "    \"5573c8ede34936c29cdfdfe743f7f5fdfbd4f54ba0705259e62f39917065cb9b\",\n",
    "    \"82a02ecbb6623b4274dfcab82b336dc017a27136e08521091e443e62582e8f05\",\n",
    "    \"507ccae5ed9b340363a0e6d765af148be9cb1c8766ccc922f83e4ae681658308\",\n",
    "    \"a7a4aec28e7162e1e9ef33dfa30f0bc0526e6cf4b11a576f6c5de58593898330\",\n",
    "    \"bb6267664bd833fd9fc82582853ab144fece26b7a8a5bf328f8a059445b59add\",\n",
    "    \"ea6d7ac1ee77fbacee58fc717b990c4fcccf1b19af43103c090f601677fd8836\",\n",
    "    \"457743861de496c429912558a106b810b0507975a49773228aa788df40730d41\",\n",
    "    \"7688029288efc9e9a0011c960a6ed9e5466581abf3e3a6c26ee317461add619a\",\n",
    "    \"b1ae7f15836cb2286cdd4e2c37bf9bb7da0a2846d06867a429f654b2e7f383c9\",\n",
    "    \"9b74f89fa3f93e71ff2c241f32945d877281a6a50a6bf94adac002980aafe5ab\",\n",
    "    \"b3a92b5b255019bdaf754875633c2de9fec2ab03e6b8ce669d07cb5b18804638\",\n",
    "    \"b5c0b915312b9bdaedd2b86aa2d0f8feffc73a2d37668fd9010179261e25e263\",\n",
    "    \"c9d52c5cb1e557b92c84c52e7c4bfbce859408bedffc8a5560fd6e35e10b8800\",\n",
    "    \"c555bc5fc3bc096df0a0c9532f07640bfb76bfe4fc1ace214b8b228a1297a4c2\",\n",
    "    \"f9dbfafc3af3400954975da24eb325e326960a25b87fffe23eef3e7ed2fb610e\",\n",
    "    \"38faf8c811988dff0a7e6080b1771c97bcc0801c64d9068cffb85e6e7aacaf51\",\n",
    "]\n",
    "tree = MerkleTree(len(hex_hashes))\n",
    "tree.nodes[5] = [bytes.fromhex(h) for h in hex_hashes]\n",
    "while tree.root() is None:\n",
    "    if tree.is_leaf():\n",
    "        tree.up()\n",
    "    else:\n",
    "        left_hash = tree.get_left_node()\n",
    "        if left_hash is None:\n",
    "            tree.left()\n",
    "        elif tree.right_exists():\n",
    "            right_hash = tree.get_right_node()\n",
    "            if right_hash is None:\n",
    "                tree.right()\n",
    "            else:\n",
    "                tree.set_current_node(merkle_parent(left_hash, right_hash))\n",
    "                tree.up()\n",
    "        else:\n",
    "            tree.set_current_node(merkle_parent(left_hash, left_hash))\n",
    "            tree.up()\n",
    "print(tree)"
   ]
  },
  {
   "cell_type": "markdown",
   "metadata": {},
   "source": [
    "### Exercise 6\n",
    "\n",
    "Write the `parse` method for `MerkleBlock`.\n",
    "\n",
    "#### Make [this test](/edit/code-ch11/merkleblock.py) pass: `merkleblock.py:MerkleBlockTest:test_parse`"
   ]
  },
  {
   "cell_type": "code",
   "execution_count": 29,
   "metadata": {},
   "outputs": [
    {
     "name": "stderr",
     "output_type": "stream",
     "text": [
      ".\n",
      "----------------------------------------------------------------------\n",
      "Ran 1 test in 0.001s\n",
      "\n",
      "OK\n"
     ]
    }
   ],
   "source": [
    "# Exercise 6\n",
    "import merkleblock\n",
    "reload(merkleblock)\n",
    "run(merkleblock.MerkleBlockTest(\"test_parse\"))"
   ]
  },
  {
   "cell_type": "markdown",
   "metadata": {},
   "source": [
    "### Exercise 7\n",
    "\n",
    "Write the `is_valid` method for `MerkleBlock`\n",
    "\n",
    "#### Make [this test](/edit/code-ch11/merkleblock.py) pass: `merkleblock.py:MerkleBlockTest:test_is_valid`"
   ]
  },
  {
   "cell_type": "code",
   "execution_count": 30,
   "metadata": {},
   "outputs": [
    {
     "name": "stderr",
     "output_type": "stream",
     "text": [
      ".\n",
      "----------------------------------------------------------------------\n",
      "Ran 1 test in 0.001s\n",
      "\n",
      "OK\n"
     ]
    }
   ],
   "source": [
    "# Exercise 7\n",
    "import merkleblock\n",
    "reload(merkleblock)\n",
    "run(merkleblock.MerkleBlockTest(\"test_is_valid\"))"
   ]
  },
  {
   "cell_type": "code",
   "execution_count": null,
   "metadata": {},
   "outputs": [],
   "source": []
  }
 ],
 "metadata": {
  "kernelspec": {
   "display_name": "Python 3",
   "language": "python",
   "name": "python3"
  },
  "language_info": {
   "codemirror_mode": {
    "name": "ipython",
    "version": 3
   },
   "file_extension": ".py",
   "mimetype": "text/x-python",
   "name": "python",
   "nbconvert_exporter": "python",
   "pygments_lexer": "ipython3",
   "version": "3.6.10"
  }
 },
 "nbformat": 4,
 "nbformat_minor": 2
}
